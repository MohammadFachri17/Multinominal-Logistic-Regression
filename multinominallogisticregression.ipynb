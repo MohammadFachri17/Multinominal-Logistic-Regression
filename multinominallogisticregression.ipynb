{
 "cells": [
  {
   "cell_type": "code",
   "execution_count": 1,
   "id": "276ed4f6",
   "metadata": {
    "_cell_guid": "b1076dfc-b9ad-4769-8c92-a6c4dae69d19",
    "_uuid": "8f2839f25d086af736a60e9eeb907d3b93b6e0e5",
    "execution": {
     "iopub.execute_input": "2022-07-05T10:05:58.586230Z",
     "iopub.status.busy": "2022-07-05T10:05:58.585487Z",
     "iopub.status.idle": "2022-07-05T10:05:58.604429Z",
     "shell.execute_reply": "2022-07-05T10:05:58.603608Z"
    },
    "papermill": {
     "duration": 0.029376,
     "end_time": "2022-07-05T10:05:58.607424",
     "exception": false,
     "start_time": "2022-07-05T10:05:58.578048",
     "status": "completed"
    },
    "tags": []
   },
   "outputs": [
    {
     "name": "stdout",
     "output_type": "stream",
     "text": [
      "/kaggle/input/multinominallogistisregression/PertanianUAS.csv\n"
     ]
    }
   ],
   "source": [
    "# This Python 3 environment comes with many helpful analytics libraries installed\n",
    "# It is defined by the kaggle/python Docker image: https://github.com/kaggle/docker-python\n",
    "# For example, here's several helpful packages to load\n",
    "\n",
    "import numpy as np # linear algebra\n",
    "import pandas as pd # data processing, CSV file I/O (e.g. pd.read_csv)\n",
    "\n",
    "# Input data files are available in the read-only \"../input/\" directory\n",
    "# For example, running this (by clicking run or pressing Shift+Enter) will list all files under the input directory\n",
    "\n",
    "import os\n",
    "for dirname, _, filenames in os.walk('/kaggle/input'):\n",
    "    for filename in filenames:\n",
    "        print(os.path.join(dirname, filename))\n",
    "\n",
    "# You can write up to 20GB to the current directory (/kaggle/working/) that gets preserved as output when you create a version using \"Save & Run All\" \n",
    "# You can also write temporary files to /kaggle/temp/, but they won't be saved outside of the current session"
   ]
  },
  {
   "cell_type": "code",
   "execution_count": 2,
   "id": "68113aaf",
   "metadata": {
    "execution": {
     "iopub.execute_input": "2022-07-05T10:05:58.620121Z",
     "iopub.status.busy": "2022-07-05T10:05:58.619689Z",
     "iopub.status.idle": "2022-07-05T10:06:00.104933Z",
     "shell.execute_reply": "2022-07-05T10:06:00.103487Z"
    },
    "papermill": {
     "duration": 1.494443,
     "end_time": "2022-07-05T10:06:00.107879",
     "exception": false,
     "start_time": "2022-07-05T10:05:58.613436",
     "status": "completed"
    },
    "tags": []
   },
   "outputs": [],
   "source": [
    "import pandas as pd\n",
    "import seaborn as sns\n",
    "from sklearn.metrics import classification_report\n",
    "from sklearn.metrics import accuracy_score\n",
    "from sklearn.model_selection import train_test_split\n",
    "from sklearn.linear_model import LogisticRegression"
   ]
  },
  {
   "cell_type": "code",
   "execution_count": 3,
   "id": "17d50211",
   "metadata": {
    "execution": {
     "iopub.execute_input": "2022-07-05T10:06:00.121389Z",
     "iopub.status.busy": "2022-07-05T10:06:00.120386Z",
     "iopub.status.idle": "2022-07-05T10:06:00.154219Z",
     "shell.execute_reply": "2022-07-05T10:06:00.152985Z"
    },
    "papermill": {
     "duration": 0.043089,
     "end_time": "2022-07-05T10:06:00.156976",
     "exception": false,
     "start_time": "2022-07-05T10:06:00.113887",
     "status": "completed"
    },
    "tags": []
   },
   "outputs": [
    {
     "data": {
      "text/html": [
       "<div>\n",
       "<style scoped>\n",
       "    .dataframe tbody tr th:only-of-type {\n",
       "        vertical-align: middle;\n",
       "    }\n",
       "\n",
       "    .dataframe tbody tr th {\n",
       "        vertical-align: top;\n",
       "    }\n",
       "\n",
       "    .dataframe thead th {\n",
       "        text-align: right;\n",
       "    }\n",
       "</style>\n",
       "<table border=\"1\" class=\"dataframe\">\n",
       "  <thead>\n",
       "    <tr style=\"text-align: right;\">\n",
       "      <th></th>\n",
       "      <th>DER</th>\n",
       "      <th>Operating Profit Margin</th>\n",
       "      <th>Sales Growth</th>\n",
       "      <th>Return On Asset</th>\n",
       "      <th>Category</th>\n",
       "    </tr>\n",
       "  </thead>\n",
       "  <tbody>\n",
       "    <tr>\n",
       "      <th>0</th>\n",
       "      <td>0.135154</td>\n",
       "      <td>0.135154</td>\n",
       "      <td>1.293241</td>\n",
       "      <td>0.064848</td>\n",
       "      <td>1</td>\n",
       "    </tr>\n",
       "    <tr>\n",
       "      <th>1</th>\n",
       "      <td>0.758859</td>\n",
       "      <td>-0.064557</td>\n",
       "      <td>0.834610</td>\n",
       "      <td>-0.064974</td>\n",
       "      <td>1</td>\n",
       "    </tr>\n",
       "    <tr>\n",
       "      <th>2</th>\n",
       "      <td>0.395062</td>\n",
       "      <td>0.236027</td>\n",
       "      <td>1.625789</td>\n",
       "      <td>0.061328</td>\n",
       "      <td>2</td>\n",
       "    </tr>\n",
       "    <tr>\n",
       "      <th>3</th>\n",
       "      <td>0.000624</td>\n",
       "      <td>0.227386</td>\n",
       "      <td>0.797727</td>\n",
       "      <td>0.119392</td>\n",
       "      <td>1</td>\n",
       "    </tr>\n",
       "    <tr>\n",
       "      <th>4</th>\n",
       "      <td>1.239184</td>\n",
       "      <td>-2.007213</td>\n",
       "      <td>1.451510</td>\n",
       "      <td>-0.059932</td>\n",
       "      <td>4</td>\n",
       "    </tr>\n",
       "  </tbody>\n",
       "</table>\n",
       "</div>"
      ],
      "text/plain": [
       "        DER  Operating Profit Margin  Sales Growth  Return On Asset  Category\n",
       "0  0.135154                 0.135154      1.293241         0.064848         1\n",
       "1  0.758859                -0.064557      0.834610        -0.064974         1\n",
       "2  0.395062                 0.236027      1.625789         0.061328         2\n",
       "3  0.000624                 0.227386      0.797727         0.119392         1\n",
       "4  1.239184                -2.007213      1.451510        -0.059932         4"
      ]
     },
     "execution_count": 3,
     "metadata": {},
     "output_type": "execute_result"
    }
   ],
   "source": [
    "df = pd.read_csv('../input/multinominallogistisregression/PertanianUAS.csv')\n",
    "df.head()"
   ]
  },
  {
   "cell_type": "code",
   "execution_count": 4,
   "id": "42750437",
   "metadata": {
    "execution": {
     "iopub.execute_input": "2022-07-05T10:06:00.170704Z",
     "iopub.status.busy": "2022-07-05T10:06:00.169517Z",
     "iopub.status.idle": "2022-07-05T10:06:00.178204Z",
     "shell.execute_reply": "2022-07-05T10:06:00.177455Z"
    },
    "papermill": {
     "duration": 0.017621,
     "end_time": "2022-07-05T10:06:00.180448",
     "exception": false,
     "start_time": "2022-07-05T10:06:00.162827",
     "status": "completed"
    },
    "tags": []
   },
   "outputs": [
    {
     "data": {
      "text/plain": [
       "array([[ 1.35154326e-01,  1.35154326e-01,  1.29324147e+00,\n",
       "         6.48477330e-02,  1.00000000e+00],\n",
       "       [ 7.58859160e-01, -6.45565480e-02,  8.34610166e-01,\n",
       "        -6.49736420e-02,  1.00000000e+00],\n",
       "       [ 3.95062270e-01,  2.36026568e-01,  1.62578915e+00,\n",
       "         6.13284300e-02,  2.00000000e+00],\n",
       "       [ 6.23580000e-04,  2.27386464e-01,  7.97726643e-01,\n",
       "         1.19392284e-01,  1.00000000e+00],\n",
       "       [ 1.23918365e+00, -2.00721268e+00,  1.45150996e+00,\n",
       "        -5.99320140e-02,  4.00000000e+00],\n",
       "       [ 3.51720847e+00, -4.12206492e-01,  1.33641854e+00,\n",
       "        -1.16518174e-01,  1.00000000e+00],\n",
       "       [ 5.08335265e+00,  3.31290314e-01,  1.05542852e+00,\n",
       "         4.05886354e-01,  2.00000000e+00],\n",
       "       [ 7.55672046e-01,  1.93574141e-01,  1.06352921e+00,\n",
       "         5.30297930e-02,  4.00000000e+00],\n",
       "       [ 6.24000055e-01, -3.19872460e-02,  1.05681644e+00,\n",
       "        -2.64757790e-02,  1.00000000e+00],\n",
       "       [ 1.06140122e+01,  5.25930500e-03,  6.37814498e-01,\n",
       "        -5.52244650e-02,  1.00000000e+00],\n",
       "       [ 8.34013000e-04,  2.75623565e-01,  1.27956743e+00,\n",
       "         8.36404340e-02,  1.00000000e+00],\n",
       "       [ 3.57070904e+00, -9.80924660e-01,  9.77536938e-01,\n",
       "        -1.78472190e-01,  3.00000000e+00],\n",
       "       [ 1.19241854e+00,  2.39856610e-02,  1.78084047e+00,\n",
       "         4.31474760e-02,  2.00000000e+00],\n",
       "       [ 1.44011876e+00,  2.09130653e-01,  1.89817074e+00,\n",
       "         5.73009870e-02,  4.00000000e+00],\n",
       "       [ 6.97245784e-01,  2.79514114e-01,  1.49113635e+00,\n",
       "         8.22536130e-02,  2.00000000e+00],\n",
       "       [ 4.92059783e-01,  1.50500986e-01,  1.35813032e+00,\n",
       "         2.73605640e-02,  1.00000000e+00],\n",
       "       [ 1.02678206e+00,  4.58206353e-01,  1.29716560e+00,\n",
       "         1.09418602e-01,  1.00000000e+00],\n",
       "       [ 1.64505738e+00,  1.38291493e-01,  1.27306024e+00,\n",
       "         4.24569790e-02,  1.00000000e+00],\n",
       "       [-1.32274335e+00,  1.95795668e-01,  1.26345540e+00,\n",
       "        -3.92088800e-03,  1.00000000e+00]])"
      ]
     },
     "execution_count": 4,
     "metadata": {},
     "output_type": "execute_result"
    }
   ],
   "source": [
    "np.asarray(df)"
   ]
  },
  {
   "cell_type": "code",
   "execution_count": 5,
   "id": "031435a6",
   "metadata": {
    "execution": {
     "iopub.execute_input": "2022-07-05T10:06:00.194280Z",
     "iopub.status.busy": "2022-07-05T10:06:00.193867Z",
     "iopub.status.idle": "2022-07-05T10:06:01.008547Z",
     "shell.execute_reply": "2022-07-05T10:06:01.007010Z"
    },
    "papermill": {
     "duration": 0.825611,
     "end_time": "2022-07-05T10:06:01.011671",
     "exception": false,
     "start_time": "2022-07-05T10:06:00.186060",
     "status": "completed"
    },
    "tags": []
   },
   "outputs": [],
   "source": [
    "import statsmodels.api as sm"
   ]
  },
  {
   "cell_type": "code",
   "execution_count": 6,
   "id": "caee4331",
   "metadata": {
    "execution": {
     "iopub.execute_input": "2022-07-05T10:06:01.025581Z",
     "iopub.status.busy": "2022-07-05T10:06:01.025137Z",
     "iopub.status.idle": "2022-07-05T10:06:01.048024Z",
     "shell.execute_reply": "2022-07-05T10:06:01.046742Z"
    },
    "papermill": {
     "duration": 0.032919,
     "end_time": "2022-07-05T10:06:01.050389",
     "exception": false,
     "start_time": "2022-07-05T10:06:01.017470",
     "status": "completed"
    },
    "tags": []
   },
   "outputs": [
    {
     "data": {
      "text/html": [
       "<div>\n",
       "<style scoped>\n",
       "    .dataframe tbody tr th:only-of-type {\n",
       "        vertical-align: middle;\n",
       "    }\n",
       "\n",
       "    .dataframe tbody tr th {\n",
       "        vertical-align: top;\n",
       "    }\n",
       "\n",
       "    .dataframe thead th {\n",
       "        text-align: right;\n",
       "    }\n",
       "</style>\n",
       "<table border=\"1\" class=\"dataframe\">\n",
       "  <thead>\n",
       "    <tr style=\"text-align: right;\">\n",
       "      <th></th>\n",
       "      <th>DER</th>\n",
       "      <th>Operating Profit Margin</th>\n",
       "      <th>Sales Growth</th>\n",
       "      <th>Return On Asset</th>\n",
       "    </tr>\n",
       "  </thead>\n",
       "  <tbody>\n",
       "    <tr>\n",
       "      <th>0</th>\n",
       "      <td>0.135154</td>\n",
       "      <td>0.135154</td>\n",
       "      <td>1.293241</td>\n",
       "      <td>0.064848</td>\n",
       "    </tr>\n",
       "    <tr>\n",
       "      <th>1</th>\n",
       "      <td>0.758859</td>\n",
       "      <td>-0.064557</td>\n",
       "      <td>0.834610</td>\n",
       "      <td>-0.064974</td>\n",
       "    </tr>\n",
       "    <tr>\n",
       "      <th>2</th>\n",
       "      <td>0.395062</td>\n",
       "      <td>0.236027</td>\n",
       "      <td>1.625789</td>\n",
       "      <td>0.061328</td>\n",
       "    </tr>\n",
       "    <tr>\n",
       "      <th>3</th>\n",
       "      <td>0.000624</td>\n",
       "      <td>0.227386</td>\n",
       "      <td>0.797727</td>\n",
       "      <td>0.119392</td>\n",
       "    </tr>\n",
       "    <tr>\n",
       "      <th>4</th>\n",
       "      <td>1.239184</td>\n",
       "      <td>-2.007213</td>\n",
       "      <td>1.451510</td>\n",
       "      <td>-0.059932</td>\n",
       "    </tr>\n",
       "  </tbody>\n",
       "</table>\n",
       "</div>"
      ],
      "text/plain": [
       "        DER  Operating Profit Margin  Sales Growth  Return On Asset\n",
       "0  0.135154                 0.135154      1.293241         0.064848\n",
       "1  0.758859                -0.064557      0.834610        -0.064974\n",
       "2  0.395062                 0.236027      1.625789         0.061328\n",
       "3  0.000624                 0.227386      0.797727         0.119392\n",
       "4  1.239184                -2.007213      1.451510        -0.059932"
      ]
     },
     "execution_count": 6,
     "metadata": {},
     "output_type": "execute_result"
    }
   ],
   "source": [
    "x = df.drop('Category', axis=1)\n",
    "x.head()"
   ]
  },
  {
   "cell_type": "code",
   "execution_count": 7,
   "id": "48add3c3",
   "metadata": {
    "execution": {
     "iopub.execute_input": "2022-07-05T10:06:01.064023Z",
     "iopub.status.busy": "2022-07-05T10:06:01.063616Z",
     "iopub.status.idle": "2022-07-05T10:06:01.074055Z",
     "shell.execute_reply": "2022-07-05T10:06:01.072997Z"
    },
    "papermill": {
     "duration": 0.020563,
     "end_time": "2022-07-05T10:06:01.076815",
     "exception": false,
     "start_time": "2022-07-05T10:06:01.056252",
     "status": "completed"
    },
    "tags": []
   },
   "outputs": [
    {
     "data": {
      "text/plain": [
       "0    1\n",
       "1    1\n",
       "2    2\n",
       "3    1\n",
       "4    4\n",
       "Name: Category, dtype: int64"
      ]
     },
     "execution_count": 7,
     "metadata": {},
     "output_type": "execute_result"
    }
   ],
   "source": [
    "y = df['Category']\n",
    "y.head()"
   ]
  },
  {
   "cell_type": "code",
   "execution_count": 8,
   "id": "afd184fb",
   "metadata": {
    "execution": {
     "iopub.execute_input": "2022-07-05T10:06:01.091432Z",
     "iopub.status.busy": "2022-07-05T10:06:01.090733Z",
     "iopub.status.idle": "2022-07-05T10:06:01.097424Z",
     "shell.execute_reply": "2022-07-05T10:06:01.096472Z"
    },
    "papermill": {
     "duration": 0.017526,
     "end_time": "2022-07-05T10:06:01.100370",
     "exception": false,
     "start_time": "2022-07-05T10:06:01.082844",
     "status": "completed"
    },
    "tags": []
   },
   "outputs": [],
   "source": [
    "x_train, x_test, y_train, y_test = train_test_split(x,y, test_size=0.2)"
   ]
  },
  {
   "cell_type": "code",
   "execution_count": 9,
   "id": "7bf7a069",
   "metadata": {
    "execution": {
     "iopub.execute_input": "2022-07-05T10:06:01.118160Z",
     "iopub.status.busy": "2022-07-05T10:06:01.116600Z",
     "iopub.status.idle": "2022-07-05T10:06:01.141387Z",
     "shell.execute_reply": "2022-07-05T10:06:01.139878Z"
    },
    "papermill": {
     "duration": 0.037419,
     "end_time": "2022-07-05T10:06:01.145142",
     "exception": false,
     "start_time": "2022-07-05T10:06:01.107723",
     "status": "completed"
    },
    "tags": []
   },
   "outputs": [
    {
     "data": {
      "text/html": [
       "<div>\n",
       "<style scoped>\n",
       "    .dataframe tbody tr th:only-of-type {\n",
       "        vertical-align: middle;\n",
       "    }\n",
       "\n",
       "    .dataframe tbody tr th {\n",
       "        vertical-align: top;\n",
       "    }\n",
       "\n",
       "    .dataframe thead th {\n",
       "        text-align: right;\n",
       "    }\n",
       "</style>\n",
       "<table border=\"1\" class=\"dataframe\">\n",
       "  <thead>\n",
       "    <tr style=\"text-align: right;\">\n",
       "      <th></th>\n",
       "      <th>const</th>\n",
       "      <th>DER</th>\n",
       "      <th>Operating Profit Margin</th>\n",
       "      <th>Sales Growth</th>\n",
       "      <th>Return On Asset</th>\n",
       "    </tr>\n",
       "  </thead>\n",
       "  <tbody>\n",
       "    <tr>\n",
       "      <th>6</th>\n",
       "      <td>1.0</td>\n",
       "      <td>5.083353</td>\n",
       "      <td>0.331290</td>\n",
       "      <td>1.055429</td>\n",
       "      <td>0.405886</td>\n",
       "    </tr>\n",
       "    <tr>\n",
       "      <th>12</th>\n",
       "      <td>1.0</td>\n",
       "      <td>1.192419</td>\n",
       "      <td>0.023986</td>\n",
       "      <td>1.780840</td>\n",
       "      <td>0.043147</td>\n",
       "    </tr>\n",
       "    <tr>\n",
       "      <th>2</th>\n",
       "      <td>1.0</td>\n",
       "      <td>0.395062</td>\n",
       "      <td>0.236027</td>\n",
       "      <td>1.625789</td>\n",
       "      <td>0.061328</td>\n",
       "    </tr>\n",
       "    <tr>\n",
       "      <th>13</th>\n",
       "      <td>1.0</td>\n",
       "      <td>1.440119</td>\n",
       "      <td>0.209131</td>\n",
       "      <td>1.898171</td>\n",
       "      <td>0.057301</td>\n",
       "    </tr>\n",
       "    <tr>\n",
       "      <th>8</th>\n",
       "      <td>1.0</td>\n",
       "      <td>0.624000</td>\n",
       "      <td>-0.031987</td>\n",
       "      <td>1.056816</td>\n",
       "      <td>-0.026476</td>\n",
       "    </tr>\n",
       "    <tr>\n",
       "      <th>9</th>\n",
       "      <td>1.0</td>\n",
       "      <td>10.614012</td>\n",
       "      <td>0.005259</td>\n",
       "      <td>0.637814</td>\n",
       "      <td>-0.055224</td>\n",
       "    </tr>\n",
       "    <tr>\n",
       "      <th>17</th>\n",
       "      <td>1.0</td>\n",
       "      <td>1.645057</td>\n",
       "      <td>0.138291</td>\n",
       "      <td>1.273060</td>\n",
       "      <td>0.042457</td>\n",
       "    </tr>\n",
       "    <tr>\n",
       "      <th>15</th>\n",
       "      <td>1.0</td>\n",
       "      <td>0.492060</td>\n",
       "      <td>0.150501</td>\n",
       "      <td>1.358130</td>\n",
       "      <td>0.027361</td>\n",
       "    </tr>\n",
       "    <tr>\n",
       "      <th>0</th>\n",
       "      <td>1.0</td>\n",
       "      <td>0.135154</td>\n",
       "      <td>0.135154</td>\n",
       "      <td>1.293241</td>\n",
       "      <td>0.064848</td>\n",
       "    </tr>\n",
       "    <tr>\n",
       "      <th>7</th>\n",
       "      <td>1.0</td>\n",
       "      <td>0.755672</td>\n",
       "      <td>0.193574</td>\n",
       "      <td>1.063529</td>\n",
       "      <td>0.053030</td>\n",
       "    </tr>\n",
       "    <tr>\n",
       "      <th>10</th>\n",
       "      <td>1.0</td>\n",
       "      <td>0.000834</td>\n",
       "      <td>0.275624</td>\n",
       "      <td>1.279567</td>\n",
       "      <td>0.083640</td>\n",
       "    </tr>\n",
       "    <tr>\n",
       "      <th>18</th>\n",
       "      <td>1.0</td>\n",
       "      <td>-1.322743</td>\n",
       "      <td>0.195796</td>\n",
       "      <td>1.263455</td>\n",
       "      <td>-0.003921</td>\n",
       "    </tr>\n",
       "    <tr>\n",
       "      <th>5</th>\n",
       "      <td>1.0</td>\n",
       "      <td>3.517208</td>\n",
       "      <td>-0.412206</td>\n",
       "      <td>1.336419</td>\n",
       "      <td>-0.116518</td>\n",
       "    </tr>\n",
       "    <tr>\n",
       "      <th>14</th>\n",
       "      <td>1.0</td>\n",
       "      <td>0.697246</td>\n",
       "      <td>0.279514</td>\n",
       "      <td>1.491136</td>\n",
       "      <td>0.082254</td>\n",
       "    </tr>\n",
       "    <tr>\n",
       "      <th>16</th>\n",
       "      <td>1.0</td>\n",
       "      <td>1.026782</td>\n",
       "      <td>0.458206</td>\n",
       "      <td>1.297166</td>\n",
       "      <td>0.109419</td>\n",
       "    </tr>\n",
       "  </tbody>\n",
       "</table>\n",
       "</div>"
      ],
      "text/plain": [
       "    const        DER  Operating Profit Margin  Sales Growth  Return On Asset\n",
       "6     1.0   5.083353                 0.331290      1.055429         0.405886\n",
       "12    1.0   1.192419                 0.023986      1.780840         0.043147\n",
       "2     1.0   0.395062                 0.236027      1.625789         0.061328\n",
       "13    1.0   1.440119                 0.209131      1.898171         0.057301\n",
       "8     1.0   0.624000                -0.031987      1.056816        -0.026476\n",
       "9     1.0  10.614012                 0.005259      0.637814        -0.055224\n",
       "17    1.0   1.645057                 0.138291      1.273060         0.042457\n",
       "15    1.0   0.492060                 0.150501      1.358130         0.027361\n",
       "0     1.0   0.135154                 0.135154      1.293241         0.064848\n",
       "7     1.0   0.755672                 0.193574      1.063529         0.053030\n",
       "10    1.0   0.000834                 0.275624      1.279567         0.083640\n",
       "18    1.0  -1.322743                 0.195796      1.263455        -0.003921\n",
       "5     1.0   3.517208                -0.412206      1.336419        -0.116518\n",
       "14    1.0   0.697246                 0.279514      1.491136         0.082254\n",
       "16    1.0   1.026782                 0.458206      1.297166         0.109419"
      ]
     },
     "execution_count": 9,
     "metadata": {},
     "output_type": "execute_result"
    }
   ],
   "source": [
    "x_train_sm = sm.add_constant(x_train)\n",
    "x_train_sm"
   ]
  },
  {
   "cell_type": "code",
   "execution_count": 10,
   "id": "d547a879",
   "metadata": {
    "execution": {
     "iopub.execute_input": "2022-07-05T10:06:01.160841Z",
     "iopub.status.busy": "2022-07-05T10:06:01.159879Z",
     "iopub.status.idle": "2022-07-05T10:06:01.210480Z",
     "shell.execute_reply": "2022-07-05T10:06:01.208345Z"
    },
    "papermill": {
     "duration": 0.066675,
     "end_time": "2022-07-05T10:06:01.218596",
     "exception": false,
     "start_time": "2022-07-05T10:06:01.151921",
     "status": "completed"
    },
    "tags": []
   },
   "outputs": [
    {
     "name": "stdout",
     "output_type": "stream",
     "text": [
      "Optimization terminated successfully.\n",
      "         Current function value: nan\n",
      "         Iterations 11\n"
     ]
    },
    {
     "name": "stderr",
     "output_type": "stream",
     "text": [
      "/opt/conda/lib/python3.7/site-packages/statsmodels/discrete/discrete_model.py:2299: RuntimeWarning: overflow encountered in exp\n",
      "  eXB = np.column_stack((np.ones(len(X)), np.exp(X)))\n",
      "/opt/conda/lib/python3.7/site-packages/statsmodels/discrete/discrete_model.py:2300: RuntimeWarning: invalid value encountered in true_divide\n",
      "  return eXB/eXB.sum(1)[:,None]\n"
     ]
    }
   ],
   "source": [
    "#logit_mod = sm.Logit(y_train, x_train_sm\n",
    "                     \n",
    "mnlogit_mod = sm.MNLogit(y_train, x_train_sm)\n",
    "mnlogit_fit = mnlogit_mod.fit()"
   ]
  },
  {
   "cell_type": "code",
   "execution_count": 11,
   "id": "d102c1c2",
   "metadata": {
    "execution": {
     "iopub.execute_input": "2022-07-05T10:06:01.248423Z",
     "iopub.status.busy": "2022-07-05T10:06:01.247448Z",
     "iopub.status.idle": "2022-07-05T10:06:01.324545Z",
     "shell.execute_reply": "2022-07-05T10:06:01.323529Z"
    },
    "papermill": {
     "duration": 0.095599,
     "end_time": "2022-07-05T10:06:01.327600",
     "exception": false,
     "start_time": "2022-07-05T10:06:01.232001",
     "status": "completed"
    },
    "tags": []
   },
   "outputs": [
    {
     "name": "stdout",
     "output_type": "stream",
     "text": [
      "                          MNLogit Regression Results                          \n",
      "==============================================================================\n",
      "Dep. Variable:               Category   No. Observations:                   15\n",
      "Model:                        MNLogit   Df Residuals:                        5\n",
      "Method:                           MLE   Df Model:                            8\n",
      "Date:                Tue, 05 Jul 2022   Pseudo R-squ.:                     nan\n",
      "Time:                        10:06:01   Log-Likelihood:                    nan\n",
      "converged:                       True   LL-Null:                       -13.914\n",
      "Covariance Type:            nonrobust   LLR p-value:                       nan\n",
      "===========================================================================================\n",
      "             Category=2       coef    std err          z      P>|z|      [0.025      0.975]\n",
      "-------------------------------------------------------------------------------------------\n",
      "const                          nan        nan        nan        nan         nan         nan\n",
      "DER                            nan        nan        nan        nan         nan         nan\n",
      "Operating Profit Margin        nan        nan        nan        nan         nan         nan\n",
      "Sales Growth                   nan        nan        nan        nan         nan         nan\n",
      "Return On Asset                nan        nan        nan        nan         nan         nan\n",
      "-------------------------------------------------------------------------------------------\n",
      "             Category=4       coef    std err          z      P>|z|      [0.025      0.975]\n",
      "-------------------------------------------------------------------------------------------\n",
      "const                          nan        nan        nan        nan         nan         nan\n",
      "DER                            nan        nan        nan        nan         nan         nan\n",
      "Operating Profit Margin        nan        nan        nan        nan         nan         nan\n",
      "Sales Growth                   nan        nan        nan        nan         nan         nan\n",
      "Return On Asset                nan        nan        nan        nan         nan         nan\n",
      "===========================================================================================\n"
     ]
    }
   ],
   "source": [
    "print (mnlogit_fit.summary())"
   ]
  },
  {
   "cell_type": "code",
   "execution_count": 12,
   "id": "30b48920",
   "metadata": {
    "execution": {
     "iopub.execute_input": "2022-07-05T10:06:01.344116Z",
     "iopub.status.busy": "2022-07-05T10:06:01.343323Z",
     "iopub.status.idle": "2022-07-05T10:06:01.367199Z",
     "shell.execute_reply": "2022-07-05T10:06:01.366098Z"
    },
    "papermill": {
     "duration": 0.035515,
     "end_time": "2022-07-05T10:06:01.369990",
     "exception": false,
     "start_time": "2022-07-05T10:06:01.334475",
     "status": "completed"
    },
    "tags": []
   },
   "outputs": [
    {
     "data": {
      "text/plain": [
       "LogisticRegression()"
      ]
     },
     "execution_count": 12,
     "metadata": {},
     "output_type": "execute_result"
    }
   ],
   "source": [
    "model = LogisticRegression(multi_class='auto')\n",
    "model.fit(x_train, y_train)"
   ]
  },
  {
   "cell_type": "code",
   "execution_count": 13,
   "id": "8ba41caf",
   "metadata": {
    "execution": {
     "iopub.execute_input": "2022-07-05T10:06:01.387046Z",
     "iopub.status.busy": "2022-07-05T10:06:01.386063Z",
     "iopub.status.idle": "2022-07-05T10:06:01.396538Z",
     "shell.execute_reply": "2022-07-05T10:06:01.395013Z"
    },
    "papermill": {
     "duration": 0.022054,
     "end_time": "2022-07-05T10:06:01.399674",
     "exception": false,
     "start_time": "2022-07-05T10:06:01.377620",
     "status": "completed"
    },
    "tags": []
   },
   "outputs": [
    {
     "data": {
      "text/plain": [
       "array([[0.76258967, 0.13882461, 0.09858572],\n",
       "       [0.79837054, 0.11576841, 0.08586106],\n",
       "       [0.8061008 , 0.12645782, 0.06744139],\n",
       "       [0.72961574, 0.15687527, 0.11350899]])"
      ]
     },
     "execution_count": 13,
     "metadata": {},
     "output_type": "execute_result"
    }
   ],
   "source": [
    "model.predict_proba(x_test)[0:5]"
   ]
  },
  {
   "cell_type": "code",
   "execution_count": 14,
   "id": "3f2b226b",
   "metadata": {
    "execution": {
     "iopub.execute_input": "2022-07-05T10:06:01.417036Z",
     "iopub.status.busy": "2022-07-05T10:06:01.415813Z",
     "iopub.status.idle": "2022-07-05T10:06:01.427169Z",
     "shell.execute_reply": "2022-07-05T10:06:01.425560Z"
    },
    "papermill": {
     "duration": 0.023707,
     "end_time": "2022-07-05T10:06:01.430584",
     "exception": false,
     "start_time": "2022-07-05T10:06:01.406877",
     "status": "completed"
    },
    "tags": []
   },
   "outputs": [
    {
     "data": {
      "text/plain": [
       "array([1, 1, 1, 1])"
      ]
     },
     "execution_count": 14,
     "metadata": {},
     "output_type": "execute_result"
    }
   ],
   "source": [
    "predictions = model.predict(x_test)\n",
    "predictions"
   ]
  },
  {
   "cell_type": "code",
   "execution_count": 15,
   "id": "d1c9dd50",
   "metadata": {
    "execution": {
     "iopub.execute_input": "2022-07-05T10:06:01.448092Z",
     "iopub.status.busy": "2022-07-05T10:06:01.446845Z",
     "iopub.status.idle": "2022-07-05T10:06:01.463715Z",
     "shell.execute_reply": "2022-07-05T10:06:01.461616Z"
    },
    "papermill": {
     "duration": 0.02918,
     "end_time": "2022-07-05T10:06:01.467335",
     "exception": false,
     "start_time": "2022-07-05T10:06:01.438155",
     "status": "completed"
    },
    "tags": []
   },
   "outputs": [
    {
     "name": "stdout",
     "output_type": "stream",
     "text": [
      "              precision    recall  f1-score   support\n",
      "\n",
      "           1       0.50      1.00      0.67         2\n",
      "           3       0.00      0.00      0.00         1\n",
      "           4       0.00      0.00      0.00         1\n",
      "\n",
      "    accuracy                           0.50         4\n",
      "   macro avg       0.17      0.33      0.22         4\n",
      "weighted avg       0.25      0.50      0.33         4\n",
      "\n"
     ]
    },
    {
     "name": "stderr",
     "output_type": "stream",
     "text": [
      "/opt/conda/lib/python3.7/site-packages/sklearn/metrics/_classification.py:1318: UndefinedMetricWarning: Precision and F-score are ill-defined and being set to 0.0 in labels with no predicted samples. Use `zero_division` parameter to control this behavior.\n",
      "  _warn_prf(average, modifier, msg_start, len(result))\n",
      "/opt/conda/lib/python3.7/site-packages/sklearn/metrics/_classification.py:1318: UndefinedMetricWarning: Precision and F-score are ill-defined and being set to 0.0 in labels with no predicted samples. Use `zero_division` parameter to control this behavior.\n",
      "  _warn_prf(average, modifier, msg_start, len(result))\n",
      "/opt/conda/lib/python3.7/site-packages/sklearn/metrics/_classification.py:1318: UndefinedMetricWarning: Precision and F-score are ill-defined and being set to 0.0 in labels with no predicted samples. Use `zero_division` parameter to control this behavior.\n",
      "  _warn_prf(average, modifier, msg_start, len(result))\n"
     ]
    }
   ],
   "source": [
    "print(classification_report(y_test, predictions))"
   ]
  }
 ],
 "metadata": {
  "kernelspec": {
   "display_name": "Python 3",
   "language": "python",
   "name": "python3"
  },
  "language_info": {
   "codemirror_mode": {
    "name": "ipython",
    "version": 3
   },
   "file_extension": ".py",
   "mimetype": "text/x-python",
   "name": "python",
   "nbconvert_exporter": "python",
   "pygments_lexer": "ipython3",
   "version": "3.7.12"
  },
  "papermill": {
   "default_parameters": {},
   "duration": 14.024481,
   "end_time": "2022-07-05T10:06:02.397555",
   "environment_variables": {},
   "exception": null,
   "input_path": "__notebook__.ipynb",
   "output_path": "__notebook__.ipynb",
   "parameters": {},
   "start_time": "2022-07-05T10:05:48.373074",
   "version": "2.3.4"
  }
 },
 "nbformat": 4,
 "nbformat_minor": 5
}
