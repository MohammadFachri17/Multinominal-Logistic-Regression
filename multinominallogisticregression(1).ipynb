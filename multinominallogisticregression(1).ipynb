{
 "cells": [
  {
   "cell_type": "code",
   "execution_count": 1,
   "id": "3bf8a36f",
   "metadata": {
    "_cell_guid": "b1076dfc-b9ad-4769-8c92-a6c4dae69d19",
    "_uuid": "8f2839f25d086af736a60e9eeb907d3b93b6e0e5",
    "execution": {
     "iopub.execute_input": "2022-07-05T15:47:51.564444Z",
     "iopub.status.busy": "2022-07-05T15:47:51.564023Z",
     "iopub.status.idle": "2022-07-05T15:47:51.585346Z",
     "shell.execute_reply": "2022-07-05T15:47:51.583386Z"
    },
    "papermill": {
     "duration": 0.031557,
     "end_time": "2022-07-05T15:47:51.588085",
     "exception": false,
     "start_time": "2022-07-05T15:47:51.556528",
     "status": "completed"
    },
    "tags": []
   },
   "outputs": [
    {
     "name": "stdout",
     "output_type": "stream",
     "text": [
      "/kaggle/input/multinominallogistisregression/PertanianUAS.csv\n"
     ]
    }
   ],
   "source": [
    "# This Python 3 environment comes with many helpful analytics libraries installed\n",
    "# It is defined by the kaggle/python Docker image: https://github.com/kaggle/docker-python\n",
    "# For example, here's several helpful packages to load\n",
    "\n",
    "import numpy as np # linear algebra\n",
    "import pandas as pd # data processing, CSV file I/O (e.g. pd.read_csv)\n",
    "\n",
    "# Input data files are available in the read-only \"../input/\" directory\n",
    "# For example, running this (by clicking run or pressing Shift+Enter) will list all files under the input directory\n",
    "\n",
    "import os\n",
    "for dirname, _, filenames in os.walk('/kaggle/input'):\n",
    "    for filename in filenames:\n",
    "        print(os.path.join(dirname, filename))\n",
    "\n",
    "# You can write up to 20GB to the current directory (/kaggle/working/) that gets preserved as output when you create a version using \"Save & Run All\" \n",
    "# You can also write temporary files to /kaggle/temp/, but they won't be saved outside of the current session"
   ]
  },
  {
   "cell_type": "code",
   "execution_count": 2,
   "id": "cee3582d",
   "metadata": {
    "execution": {
     "iopub.execute_input": "2022-07-05T15:47:51.600467Z",
     "iopub.status.busy": "2022-07-05T15:47:51.599477Z",
     "iopub.status.idle": "2022-07-05T15:47:52.999998Z",
     "shell.execute_reply": "2022-07-05T15:47:52.998856Z"
    },
    "papermill": {
     "duration": 1.409355,
     "end_time": "2022-07-05T15:47:53.002672",
     "exception": false,
     "start_time": "2022-07-05T15:47:51.593317",
     "status": "completed"
    },
    "tags": []
   },
   "outputs": [],
   "source": [
    "import pandas as pd\n",
    "import seaborn as sns\n",
    "from sklearn.metrics import classification_report\n",
    "from sklearn.metrics import accuracy_score\n",
    "from sklearn.model_selection import train_test_split\n",
    "from sklearn.linear_model import LogisticRegression"
   ]
  },
  {
   "cell_type": "code",
   "execution_count": 3,
   "id": "8e606c56",
   "metadata": {
    "execution": {
     "iopub.execute_input": "2022-07-05T15:47:53.014368Z",
     "iopub.status.busy": "2022-07-05T15:47:53.013969Z",
     "iopub.status.idle": "2022-07-05T15:47:53.046479Z",
     "shell.execute_reply": "2022-07-05T15:47:53.045415Z"
    },
    "papermill": {
     "duration": 0.041199,
     "end_time": "2022-07-05T15:47:53.049060",
     "exception": false,
     "start_time": "2022-07-05T15:47:53.007861",
     "status": "completed"
    },
    "tags": []
   },
   "outputs": [
    {
     "data": {
      "text/html": [
       "<div>\n",
       "<style scoped>\n",
       "    .dataframe tbody tr th:only-of-type {\n",
       "        vertical-align: middle;\n",
       "    }\n",
       "\n",
       "    .dataframe tbody tr th {\n",
       "        vertical-align: top;\n",
       "    }\n",
       "\n",
       "    .dataframe thead th {\n",
       "        text-align: right;\n",
       "    }\n",
       "</style>\n",
       "<table border=\"1\" class=\"dataframe\">\n",
       "  <thead>\n",
       "    <tr style=\"text-align: right;\">\n",
       "      <th></th>\n",
       "      <th>DER</th>\n",
       "      <th>Operating Profit Margin</th>\n",
       "      <th>Sales Growth</th>\n",
       "      <th>Return On Asset</th>\n",
       "      <th>Category</th>\n",
       "    </tr>\n",
       "  </thead>\n",
       "  <tbody>\n",
       "    <tr>\n",
       "      <th>0</th>\n",
       "      <td>0.135154</td>\n",
       "      <td>0.135154</td>\n",
       "      <td>1.293241</td>\n",
       "      <td>0.064848</td>\n",
       "      <td>1</td>\n",
       "    </tr>\n",
       "    <tr>\n",
       "      <th>1</th>\n",
       "      <td>0.758859</td>\n",
       "      <td>-0.064557</td>\n",
       "      <td>0.834610</td>\n",
       "      <td>-0.064974</td>\n",
       "      <td>1</td>\n",
       "    </tr>\n",
       "    <tr>\n",
       "      <th>2</th>\n",
       "      <td>0.395062</td>\n",
       "      <td>0.236027</td>\n",
       "      <td>1.625789</td>\n",
       "      <td>0.061328</td>\n",
       "      <td>2</td>\n",
       "    </tr>\n",
       "    <tr>\n",
       "      <th>3</th>\n",
       "      <td>0.000624</td>\n",
       "      <td>0.227386</td>\n",
       "      <td>0.797727</td>\n",
       "      <td>0.119392</td>\n",
       "      <td>1</td>\n",
       "    </tr>\n",
       "    <tr>\n",
       "      <th>4</th>\n",
       "      <td>1.239184</td>\n",
       "      <td>-2.007213</td>\n",
       "      <td>1.451510</td>\n",
       "      <td>-0.059932</td>\n",
       "      <td>4</td>\n",
       "    </tr>\n",
       "  </tbody>\n",
       "</table>\n",
       "</div>"
      ],
      "text/plain": [
       "        DER  Operating Profit Margin  Sales Growth  Return On Asset  Category\n",
       "0  0.135154                 0.135154      1.293241         0.064848         1\n",
       "1  0.758859                -0.064557      0.834610        -0.064974         1\n",
       "2  0.395062                 0.236027      1.625789         0.061328         2\n",
       "3  0.000624                 0.227386      0.797727         0.119392         1\n",
       "4  1.239184                -2.007213      1.451510        -0.059932         4"
      ]
     },
     "execution_count": 3,
     "metadata": {},
     "output_type": "execute_result"
    }
   ],
   "source": [
    "df = pd.read_csv('../input/multinominallogistisregression/PertanianUAS.csv')\n",
    "df.head()"
   ]
  },
  {
   "cell_type": "code",
   "execution_count": 4,
   "id": "caa91938",
   "metadata": {
    "execution": {
     "iopub.execute_input": "2022-07-05T15:47:53.061224Z",
     "iopub.status.busy": "2022-07-05T15:47:53.060844Z",
     "iopub.status.idle": "2022-07-05T15:47:53.069081Z",
     "shell.execute_reply": "2022-07-05T15:47:53.068140Z"
    },
    "papermill": {
     "duration": 0.016721,
     "end_time": "2022-07-05T15:47:53.071110",
     "exception": false,
     "start_time": "2022-07-05T15:47:53.054389",
     "status": "completed"
    },
    "tags": []
   },
   "outputs": [
    {
     "data": {
      "text/plain": [
       "array([[ 1.35154326e-01,  1.35154326e-01,  1.29324147e+00,\n",
       "         6.48477330e-02,  1.00000000e+00],\n",
       "       [ 7.58859160e-01, -6.45565480e-02,  8.34610166e-01,\n",
       "        -6.49736420e-02,  1.00000000e+00],\n",
       "       [ 3.95062270e-01,  2.36026568e-01,  1.62578915e+00,\n",
       "         6.13284300e-02,  2.00000000e+00],\n",
       "       [ 6.23580000e-04,  2.27386464e-01,  7.97726643e-01,\n",
       "         1.19392284e-01,  1.00000000e+00],\n",
       "       [ 1.23918365e+00, -2.00721268e+00,  1.45150996e+00,\n",
       "        -5.99320140e-02,  4.00000000e+00],\n",
       "       [ 3.51720847e+00, -4.12206492e-01,  1.33641854e+00,\n",
       "        -1.16518174e-01,  1.00000000e+00],\n",
       "       [ 5.08335265e+00,  3.31290314e-01,  1.05542852e+00,\n",
       "         4.05886354e-01,  2.00000000e+00],\n",
       "       [ 7.55672046e-01,  1.93574141e-01,  1.06352921e+00,\n",
       "         5.30297930e-02,  4.00000000e+00],\n",
       "       [ 6.24000055e-01, -3.19872460e-02,  1.05681644e+00,\n",
       "        -2.64757790e-02,  1.00000000e+00],\n",
       "       [ 1.06140122e+01,  5.25930500e-03,  6.37814498e-01,\n",
       "        -5.52244650e-02,  1.00000000e+00],\n",
       "       [ 8.34013000e-04,  2.75623565e-01,  1.27956743e+00,\n",
       "         8.36404340e-02,  1.00000000e+00],\n",
       "       [ 3.57070904e+00, -9.80924660e-01,  9.77536938e-01,\n",
       "        -1.78472190e-01,  3.00000000e+00],\n",
       "       [ 1.19241854e+00,  2.39856610e-02,  1.78084047e+00,\n",
       "         4.31474760e-02,  2.00000000e+00],\n",
       "       [ 1.44011876e+00,  2.09130653e-01,  1.89817074e+00,\n",
       "         5.73009870e-02,  4.00000000e+00],\n",
       "       [ 6.97245784e-01,  2.79514114e-01,  1.49113635e+00,\n",
       "         8.22536130e-02,  2.00000000e+00],\n",
       "       [ 4.92059783e-01,  1.50500986e-01,  1.35813032e+00,\n",
       "         2.73605640e-02,  1.00000000e+00],\n",
       "       [ 1.02678206e+00,  4.58206353e-01,  1.29716560e+00,\n",
       "         1.09418602e-01,  1.00000000e+00],\n",
       "       [ 1.64505738e+00,  1.38291493e-01,  1.27306024e+00,\n",
       "         4.24569790e-02,  1.00000000e+00],\n",
       "       [-1.32274335e+00,  1.95795668e-01,  1.26345540e+00,\n",
       "        -3.92088800e-03,  1.00000000e+00]])"
      ]
     },
     "execution_count": 4,
     "metadata": {},
     "output_type": "execute_result"
    }
   ],
   "source": [
    "np.asarray(df)"
   ]
  },
  {
   "cell_type": "code",
   "execution_count": 5,
   "id": "e31ccb6f",
   "metadata": {
    "execution": {
     "iopub.execute_input": "2022-07-05T15:47:53.083533Z",
     "iopub.status.busy": "2022-07-05T15:47:53.083147Z",
     "iopub.status.idle": "2022-07-05T15:47:53.820098Z",
     "shell.execute_reply": "2022-07-05T15:47:53.819225Z"
    },
    "papermill": {
     "duration": 0.745801,
     "end_time": "2022-07-05T15:47:53.822542",
     "exception": false,
     "start_time": "2022-07-05T15:47:53.076741",
     "status": "completed"
    },
    "tags": []
   },
   "outputs": [],
   "source": [
    "import statsmodels.api as sm"
   ]
  },
  {
   "cell_type": "code",
   "execution_count": 6,
   "id": "5ec42c1b",
   "metadata": {
    "execution": {
     "iopub.execute_input": "2022-07-05T15:47:53.835362Z",
     "iopub.status.busy": "2022-07-05T15:47:53.834579Z",
     "iopub.status.idle": "2022-07-05T15:47:53.852011Z",
     "shell.execute_reply": "2022-07-05T15:47:53.850921Z"
    },
    "papermill": {
     "duration": 0.026352,
     "end_time": "2022-07-05T15:47:53.854287",
     "exception": false,
     "start_time": "2022-07-05T15:47:53.827935",
     "status": "completed"
    },
    "tags": []
   },
   "outputs": [
    {
     "data": {
      "text/html": [
       "<div>\n",
       "<style scoped>\n",
       "    .dataframe tbody tr th:only-of-type {\n",
       "        vertical-align: middle;\n",
       "    }\n",
       "\n",
       "    .dataframe tbody tr th {\n",
       "        vertical-align: top;\n",
       "    }\n",
       "\n",
       "    .dataframe thead th {\n",
       "        text-align: right;\n",
       "    }\n",
       "</style>\n",
       "<table border=\"1\" class=\"dataframe\">\n",
       "  <thead>\n",
       "    <tr style=\"text-align: right;\">\n",
       "      <th></th>\n",
       "      <th>DER</th>\n",
       "      <th>Operating Profit Margin</th>\n",
       "      <th>Sales Growth</th>\n",
       "      <th>Return On Asset</th>\n",
       "    </tr>\n",
       "  </thead>\n",
       "  <tbody>\n",
       "    <tr>\n",
       "      <th>0</th>\n",
       "      <td>0.135154</td>\n",
       "      <td>0.135154</td>\n",
       "      <td>1.293241</td>\n",
       "      <td>0.064848</td>\n",
       "    </tr>\n",
       "    <tr>\n",
       "      <th>1</th>\n",
       "      <td>0.758859</td>\n",
       "      <td>-0.064557</td>\n",
       "      <td>0.834610</td>\n",
       "      <td>-0.064974</td>\n",
       "    </tr>\n",
       "    <tr>\n",
       "      <th>2</th>\n",
       "      <td>0.395062</td>\n",
       "      <td>0.236027</td>\n",
       "      <td>1.625789</td>\n",
       "      <td>0.061328</td>\n",
       "    </tr>\n",
       "    <tr>\n",
       "      <th>3</th>\n",
       "      <td>0.000624</td>\n",
       "      <td>0.227386</td>\n",
       "      <td>0.797727</td>\n",
       "      <td>0.119392</td>\n",
       "    </tr>\n",
       "    <tr>\n",
       "      <th>4</th>\n",
       "      <td>1.239184</td>\n",
       "      <td>-2.007213</td>\n",
       "      <td>1.451510</td>\n",
       "      <td>-0.059932</td>\n",
       "    </tr>\n",
       "  </tbody>\n",
       "</table>\n",
       "</div>"
      ],
      "text/plain": [
       "        DER  Operating Profit Margin  Sales Growth  Return On Asset\n",
       "0  0.135154                 0.135154      1.293241         0.064848\n",
       "1  0.758859                -0.064557      0.834610        -0.064974\n",
       "2  0.395062                 0.236027      1.625789         0.061328\n",
       "3  0.000624                 0.227386      0.797727         0.119392\n",
       "4  1.239184                -2.007213      1.451510        -0.059932"
      ]
     },
     "execution_count": 6,
     "metadata": {},
     "output_type": "execute_result"
    }
   ],
   "source": [
    "x = df.drop('Category', axis=1)\n",
    "x.head()"
   ]
  },
  {
   "cell_type": "code",
   "execution_count": 7,
   "id": "39f88726",
   "metadata": {
    "execution": {
     "iopub.execute_input": "2022-07-05T15:47:53.867395Z",
     "iopub.status.busy": "2022-07-05T15:47:53.866877Z",
     "iopub.status.idle": "2022-07-05T15:47:53.875676Z",
     "shell.execute_reply": "2022-07-05T15:47:53.874917Z"
    },
    "papermill": {
     "duration": 0.017943,
     "end_time": "2022-07-05T15:47:53.877834",
     "exception": false,
     "start_time": "2022-07-05T15:47:53.859891",
     "status": "completed"
    },
    "tags": []
   },
   "outputs": [
    {
     "data": {
      "text/plain": [
       "0    1\n",
       "1    1\n",
       "2    2\n",
       "3    1\n",
       "4    4\n",
       "Name: Category, dtype: int64"
      ]
     },
     "execution_count": 7,
     "metadata": {},
     "output_type": "execute_result"
    }
   ],
   "source": [
    "y = df['Category']\n",
    "y.head()"
   ]
  },
  {
   "cell_type": "code",
   "execution_count": 8,
   "id": "2c66f6b1",
   "metadata": {
    "execution": {
     "iopub.execute_input": "2022-07-05T15:47:53.891482Z",
     "iopub.status.busy": "2022-07-05T15:47:53.890598Z",
     "iopub.status.idle": "2022-07-05T15:47:53.897020Z",
     "shell.execute_reply": "2022-07-05T15:47:53.896121Z"
    },
    "papermill": {
     "duration": 0.015366,
     "end_time": "2022-07-05T15:47:53.899199",
     "exception": false,
     "start_time": "2022-07-05T15:47:53.883833",
     "status": "completed"
    },
    "tags": []
   },
   "outputs": [],
   "source": [
    "x_train, x_test, y_train, y_test = train_test_split(x,y, test_size=0.2)"
   ]
  },
  {
   "cell_type": "code",
   "execution_count": 9,
   "id": "074bebc6",
   "metadata": {
    "execution": {
     "iopub.execute_input": "2022-07-05T15:47:53.912608Z",
     "iopub.status.busy": "2022-07-05T15:47:53.911958Z",
     "iopub.status.idle": "2022-07-05T15:47:53.929527Z",
     "shell.execute_reply": "2022-07-05T15:47:53.928800Z"
    },
    "papermill": {
     "duration": 0.026675,
     "end_time": "2022-07-05T15:47:53.931531",
     "exception": false,
     "start_time": "2022-07-05T15:47:53.904856",
     "status": "completed"
    },
    "tags": []
   },
   "outputs": [
    {
     "data": {
      "text/html": [
       "<div>\n",
       "<style scoped>\n",
       "    .dataframe tbody tr th:only-of-type {\n",
       "        vertical-align: middle;\n",
       "    }\n",
       "\n",
       "    .dataframe tbody tr th {\n",
       "        vertical-align: top;\n",
       "    }\n",
       "\n",
       "    .dataframe thead th {\n",
       "        text-align: right;\n",
       "    }\n",
       "</style>\n",
       "<table border=\"1\" class=\"dataframe\">\n",
       "  <thead>\n",
       "    <tr style=\"text-align: right;\">\n",
       "      <th></th>\n",
       "      <th>const</th>\n",
       "      <th>DER</th>\n",
       "      <th>Operating Profit Margin</th>\n",
       "      <th>Sales Growth</th>\n",
       "      <th>Return On Asset</th>\n",
       "    </tr>\n",
       "  </thead>\n",
       "  <tbody>\n",
       "    <tr>\n",
       "      <th>16</th>\n",
       "      <td>1.0</td>\n",
       "      <td>1.026782</td>\n",
       "      <td>0.458206</td>\n",
       "      <td>1.297166</td>\n",
       "      <td>0.109419</td>\n",
       "    </tr>\n",
       "    <tr>\n",
       "      <th>9</th>\n",
       "      <td>1.0</td>\n",
       "      <td>10.614012</td>\n",
       "      <td>0.005259</td>\n",
       "      <td>0.637814</td>\n",
       "      <td>-0.055224</td>\n",
       "    </tr>\n",
       "    <tr>\n",
       "      <th>18</th>\n",
       "      <td>1.0</td>\n",
       "      <td>-1.322743</td>\n",
       "      <td>0.195796</td>\n",
       "      <td>1.263455</td>\n",
       "      <td>-0.003921</td>\n",
       "    </tr>\n",
       "    <tr>\n",
       "      <th>8</th>\n",
       "      <td>1.0</td>\n",
       "      <td>0.624000</td>\n",
       "      <td>-0.031987</td>\n",
       "      <td>1.056816</td>\n",
       "      <td>-0.026476</td>\n",
       "    </tr>\n",
       "    <tr>\n",
       "      <th>1</th>\n",
       "      <td>1.0</td>\n",
       "      <td>0.758859</td>\n",
       "      <td>-0.064557</td>\n",
       "      <td>0.834610</td>\n",
       "      <td>-0.064974</td>\n",
       "    </tr>\n",
       "    <tr>\n",
       "      <th>10</th>\n",
       "      <td>1.0</td>\n",
       "      <td>0.000834</td>\n",
       "      <td>0.275624</td>\n",
       "      <td>1.279567</td>\n",
       "      <td>0.083640</td>\n",
       "    </tr>\n",
       "    <tr>\n",
       "      <th>7</th>\n",
       "      <td>1.0</td>\n",
       "      <td>0.755672</td>\n",
       "      <td>0.193574</td>\n",
       "      <td>1.063529</td>\n",
       "      <td>0.053030</td>\n",
       "    </tr>\n",
       "    <tr>\n",
       "      <th>12</th>\n",
       "      <td>1.0</td>\n",
       "      <td>1.192419</td>\n",
       "      <td>0.023986</td>\n",
       "      <td>1.780840</td>\n",
       "      <td>0.043147</td>\n",
       "    </tr>\n",
       "    <tr>\n",
       "      <th>15</th>\n",
       "      <td>1.0</td>\n",
       "      <td>0.492060</td>\n",
       "      <td>0.150501</td>\n",
       "      <td>1.358130</td>\n",
       "      <td>0.027361</td>\n",
       "    </tr>\n",
       "    <tr>\n",
       "      <th>13</th>\n",
       "      <td>1.0</td>\n",
       "      <td>1.440119</td>\n",
       "      <td>0.209131</td>\n",
       "      <td>1.898171</td>\n",
       "      <td>0.057301</td>\n",
       "    </tr>\n",
       "    <tr>\n",
       "      <th>11</th>\n",
       "      <td>1.0</td>\n",
       "      <td>3.570709</td>\n",
       "      <td>-0.980925</td>\n",
       "      <td>0.977537</td>\n",
       "      <td>-0.178472</td>\n",
       "    </tr>\n",
       "    <tr>\n",
       "      <th>5</th>\n",
       "      <td>1.0</td>\n",
       "      <td>3.517208</td>\n",
       "      <td>-0.412206</td>\n",
       "      <td>1.336419</td>\n",
       "      <td>-0.116518</td>\n",
       "    </tr>\n",
       "    <tr>\n",
       "      <th>0</th>\n",
       "      <td>1.0</td>\n",
       "      <td>0.135154</td>\n",
       "      <td>0.135154</td>\n",
       "      <td>1.293241</td>\n",
       "      <td>0.064848</td>\n",
       "    </tr>\n",
       "    <tr>\n",
       "      <th>17</th>\n",
       "      <td>1.0</td>\n",
       "      <td>1.645057</td>\n",
       "      <td>0.138291</td>\n",
       "      <td>1.273060</td>\n",
       "      <td>0.042457</td>\n",
       "    </tr>\n",
       "    <tr>\n",
       "      <th>4</th>\n",
       "      <td>1.0</td>\n",
       "      <td>1.239184</td>\n",
       "      <td>-2.007213</td>\n",
       "      <td>1.451510</td>\n",
       "      <td>-0.059932</td>\n",
       "    </tr>\n",
       "  </tbody>\n",
       "</table>\n",
       "</div>"
      ],
      "text/plain": [
       "    const        DER  Operating Profit Margin  Sales Growth  Return On Asset\n",
       "16    1.0   1.026782                 0.458206      1.297166         0.109419\n",
       "9     1.0  10.614012                 0.005259      0.637814        -0.055224\n",
       "18    1.0  -1.322743                 0.195796      1.263455        -0.003921\n",
       "8     1.0   0.624000                -0.031987      1.056816        -0.026476\n",
       "1     1.0   0.758859                -0.064557      0.834610        -0.064974\n",
       "10    1.0   0.000834                 0.275624      1.279567         0.083640\n",
       "7     1.0   0.755672                 0.193574      1.063529         0.053030\n",
       "12    1.0   1.192419                 0.023986      1.780840         0.043147\n",
       "15    1.0   0.492060                 0.150501      1.358130         0.027361\n",
       "13    1.0   1.440119                 0.209131      1.898171         0.057301\n",
       "11    1.0   3.570709                -0.980925      0.977537        -0.178472\n",
       "5     1.0   3.517208                -0.412206      1.336419        -0.116518\n",
       "0     1.0   0.135154                 0.135154      1.293241         0.064848\n",
       "17    1.0   1.645057                 0.138291      1.273060         0.042457\n",
       "4     1.0   1.239184                -2.007213      1.451510        -0.059932"
      ]
     },
     "execution_count": 9,
     "metadata": {},
     "output_type": "execute_result"
    }
   ],
   "source": [
    "x_train_sm = sm.add_constant(x_train)\n",
    "x_train_sm"
   ]
  },
  {
   "cell_type": "code",
   "execution_count": 10,
   "id": "b5c71d0b",
   "metadata": {
    "execution": {
     "iopub.execute_input": "2022-07-05T15:47:53.945795Z",
     "iopub.status.busy": "2022-07-05T15:47:53.945117Z",
     "iopub.status.idle": "2022-07-05T15:47:53.985870Z",
     "shell.execute_reply": "2022-07-05T15:47:53.984454Z"
    },
    "papermill": {
     "duration": 0.055617,
     "end_time": "2022-07-05T15:47:53.993368",
     "exception": false,
     "start_time": "2022-07-05T15:47:53.937751",
     "status": "completed"
    },
    "tags": []
   },
   "outputs": [
    {
     "name": "stdout",
     "output_type": "stream",
     "text": [
      "Warning: Maximum number of iterations has been exceeded.\n",
      "         Current function value: 0.388737\n",
      "         Iterations: 35\n"
     ]
    },
    {
     "name": "stderr",
     "output_type": "stream",
     "text": [
      "/opt/conda/lib/python3.7/site-packages/statsmodels/base/model.py:606: ConvergenceWarning: Maximum Likelihood optimization failed to converge. Check mle_retvals\n",
      "  ConvergenceWarning)\n"
     ]
    }
   ],
   "source": [
    "#logit_mod = sm.Logit(y_train, x_train_sm\n",
    "                     \n",
    "mnlogit_mod = sm.MNLogit(y_train, x_train_sm)\n",
    "mnlogit_fit = mnlogit_mod.fit()"
   ]
  },
  {
   "cell_type": "code",
   "execution_count": 11,
   "id": "dd080c81",
   "metadata": {
    "execution": {
     "iopub.execute_input": "2022-07-05T15:47:54.018372Z",
     "iopub.status.busy": "2022-07-05T15:47:54.017803Z",
     "iopub.status.idle": "2022-07-05T15:47:54.105489Z",
     "shell.execute_reply": "2022-07-05T15:47:54.104677Z"
    },
    "papermill": {
     "duration": 0.10308,
     "end_time": "2022-07-05T15:47:54.108084",
     "exception": false,
     "start_time": "2022-07-05T15:47:54.005004",
     "status": "completed"
    },
    "tags": []
   },
   "outputs": [
    {
     "name": "stdout",
     "output_type": "stream",
     "text": [
      "                          MNLogit Regression Results                          \n",
      "==============================================================================\n",
      "Dep. Variable:               Category   No. Observations:                   15\n",
      "Model:                        MNLogit   Df Residuals:                        0\n",
      "Method:                           MLE   Df Model:                           12\n",
      "Date:                Tue, 05 Jul 2022   Pseudo R-squ.:                  0.5922\n",
      "Time:                        15:47:54   Log-Likelihood:                -5.8310\n",
      "converged:                      False   LL-Null:                       -14.299\n",
      "Covariance Type:            nonrobust   LLR p-value:                    0.1520\n",
      "===========================================================================================\n",
      "             Category=2       coef    std err          z      P>|z|      [0.025      0.975]\n",
      "-------------------------------------------------------------------------------------------\n",
      "const                     -18.6093     19.675     -0.946      0.344     -57.172      19.953\n",
      "DER                        -1.5318      3.808     -0.402      0.688      -8.996       5.933\n",
      "Operating Profit Margin    -9.3066     15.021     -0.620      0.536     -38.747      20.134\n",
      "Sales Growth               11.9590     13.701      0.873      0.383     -14.894      38.812\n",
      "Return On Asset            14.4333     96.414      0.150      0.881    -174.535     203.402\n",
      "-------------------------------------------------------------------------------------------\n",
      "             Category=3       coef    std err          z      P>|z|      [0.025      0.975]\n",
      "-------------------------------------------------------------------------------------------\n",
      "const                      25.7524   6.33e+09   4.07e-09      1.000   -1.24e+10    1.24e+10\n",
      "DER                        -0.5908   1.33e+08  -4.44e-09      1.000   -2.61e+08    2.61e+08\n",
      "Operating Profit Margin   -39.6612   2.29e+09  -1.73e-08      1.000   -4.49e+09    4.49e+09\n",
      "Sales Growth              -80.4095   7.16e+09  -1.12e-08      1.000    -1.4e+10     1.4e+10\n",
      "Return On Asset          -202.2031   6.19e+09  -3.27e-08      1.000   -1.21e+10    1.21e+10\n",
      "-------------------------------------------------------------------------------------------\n",
      "             Category=4       coef    std err          z      P>|z|      [0.025      0.975]\n",
      "-------------------------------------------------------------------------------------------\n",
      "const                      -6.4057      5.536     -1.157      0.247     -17.257       4.445\n",
      "DER                         0.3806      0.796      0.478      0.633      -1.179       1.941\n",
      "Operating Profit Margin   -11.2367     15.515     -0.724      0.469     -41.645      19.172\n",
      "Sales Growth                2.9483      3.723      0.792      0.428      -4.348      10.244\n",
      "Return On Asset            53.6132     65.335      0.821      0.412     -74.441     181.668\n",
      "===========================================================================================\n"
     ]
    }
   ],
   "source": [
    "print (mnlogit_fit.summary())"
   ]
  },
  {
   "cell_type": "code",
   "execution_count": 12,
   "id": "78449993",
   "metadata": {
    "execution": {
     "iopub.execute_input": "2022-07-05T15:47:54.122342Z",
     "iopub.status.busy": "2022-07-05T15:47:54.121559Z",
     "iopub.status.idle": "2022-07-05T15:47:54.143881Z",
     "shell.execute_reply": "2022-07-05T15:47:54.142553Z"
    },
    "papermill": {
     "duration": 0.03203,
     "end_time": "2022-07-05T15:47:54.146295",
     "exception": false,
     "start_time": "2022-07-05T15:47:54.114265",
     "status": "completed"
    },
    "tags": []
   },
   "outputs": [
    {
     "data": {
      "text/plain": [
       "LogisticRegression()"
      ]
     },
     "execution_count": 12,
     "metadata": {},
     "output_type": "execute_result"
    }
   ],
   "source": [
    "model = LogisticRegression(multi_class='auto')\n",
    "model.fit(x_train, y_train)"
   ]
  },
  {
   "cell_type": "code",
   "execution_count": 13,
   "id": "a71ae3c1",
   "metadata": {
    "execution": {
     "iopub.execute_input": "2022-07-05T15:47:54.160747Z",
     "iopub.status.busy": "2022-07-05T15:47:54.160311Z",
     "iopub.status.idle": "2022-07-05T15:47:54.169547Z",
     "shell.execute_reply": "2022-07-05T15:47:54.168451Z"
    },
    "papermill": {
     "duration": 0.019237,
     "end_time": "2022-07-05T15:47:54.171855",
     "exception": false,
     "start_time": "2022-07-05T15:47:54.152618",
     "status": "completed"
    },
    "tags": []
   },
   "outputs": [
    {
     "data": {
      "text/plain": [
       "array([[0.80970121, 0.04512996, 0.02493671, 0.12023212],\n",
       "       [0.84093782, 0.03908514, 0.05782677, 0.06215027],\n",
       "       [0.71098403, 0.07694919, 0.03180604, 0.18026074],\n",
       "       [0.66563352, 0.08774476, 0.03190897, 0.21471276]])"
      ]
     },
     "execution_count": 13,
     "metadata": {},
     "output_type": "execute_result"
    }
   ],
   "source": [
    "model.predict_proba(x_test)[0:5]"
   ]
  },
  {
   "cell_type": "code",
   "execution_count": 14,
   "id": "59b35298",
   "metadata": {
    "execution": {
     "iopub.execute_input": "2022-07-05T15:47:54.187211Z",
     "iopub.status.busy": "2022-07-05T15:47:54.186124Z",
     "iopub.status.idle": "2022-07-05T15:47:54.195002Z",
     "shell.execute_reply": "2022-07-05T15:47:54.194004Z"
    },
    "papermill": {
     "duration": 0.018878,
     "end_time": "2022-07-05T15:47:54.197255",
     "exception": false,
     "start_time": "2022-07-05T15:47:54.178377",
     "status": "completed"
    },
    "tags": []
   },
   "outputs": [
    {
     "data": {
      "text/plain": [
       "array([1, 1, 1, 1])"
      ]
     },
     "execution_count": 14,
     "metadata": {},
     "output_type": "execute_result"
    }
   ],
   "source": [
    "predictions = model.predict(x_test)\n",
    "predictions"
   ]
  },
  {
   "cell_type": "code",
   "execution_count": 15,
   "id": "d425ba6d",
   "metadata": {
    "execution": {
     "iopub.execute_input": "2022-07-05T15:47:54.212358Z",
     "iopub.status.busy": "2022-07-05T15:47:54.211592Z",
     "iopub.status.idle": "2022-07-05T15:47:54.225929Z",
     "shell.execute_reply": "2022-07-05T15:47:54.224710Z"
    },
    "papermill": {
     "duration": 0.024727,
     "end_time": "2022-07-05T15:47:54.228459",
     "exception": false,
     "start_time": "2022-07-05T15:47:54.203732",
     "status": "completed"
    },
    "tags": []
   },
   "outputs": [
    {
     "name": "stdout",
     "output_type": "stream",
     "text": [
      "              precision    recall  f1-score   support\n",
      "\n",
      "           1       0.25      1.00      0.40         1\n",
      "           2       0.00      0.00      0.00         3\n",
      "\n",
      "    accuracy                           0.25         4\n",
      "   macro avg       0.12      0.50      0.20         4\n",
      "weighted avg       0.06      0.25      0.10         4\n",
      "\n"
     ]
    },
    {
     "name": "stderr",
     "output_type": "stream",
     "text": [
      "/opt/conda/lib/python3.7/site-packages/sklearn/metrics/_classification.py:1318: UndefinedMetricWarning: Precision and F-score are ill-defined and being set to 0.0 in labels with no predicted samples. Use `zero_division` parameter to control this behavior.\n",
      "  _warn_prf(average, modifier, msg_start, len(result))\n",
      "/opt/conda/lib/python3.7/site-packages/sklearn/metrics/_classification.py:1318: UndefinedMetricWarning: Precision and F-score are ill-defined and being set to 0.0 in labels with no predicted samples. Use `zero_division` parameter to control this behavior.\n",
      "  _warn_prf(average, modifier, msg_start, len(result))\n",
      "/opt/conda/lib/python3.7/site-packages/sklearn/metrics/_classification.py:1318: UndefinedMetricWarning: Precision and F-score are ill-defined and being set to 0.0 in labels with no predicted samples. Use `zero_division` parameter to control this behavior.\n",
      "  _warn_prf(average, modifier, msg_start, len(result))\n"
     ]
    }
   ],
   "source": [
    "print(classification_report(y_test, predictions))"
   ]
  }
 ],
 "metadata": {
  "kernelspec": {
   "display_name": "Python 3",
   "language": "python",
   "name": "python3"
  },
  "language_info": {
   "codemirror_mode": {
    "name": "ipython",
    "version": 3
   },
   "file_extension": ".py",
   "mimetype": "text/x-python",
   "name": "python",
   "nbconvert_exporter": "python",
   "pygments_lexer": "ipython3",
   "version": "3.7.12"
  },
  "papermill": {
   "default_parameters": {},
   "duration": 13.116423,
   "end_time": "2022-07-05T15:47:54.956833",
   "environment_variables": {},
   "exception": null,
   "input_path": "__notebook__.ipynb",
   "output_path": "__notebook__.ipynb",
   "parameters": {},
   "start_time": "2022-07-05T15:47:41.840410",
   "version": "2.3.4"
  }
 },
 "nbformat": 4,
 "nbformat_minor": 5
}
