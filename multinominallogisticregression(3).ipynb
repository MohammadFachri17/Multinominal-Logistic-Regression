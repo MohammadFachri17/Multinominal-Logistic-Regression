{
 "cells": [
  {
   "cell_type": "code",
   "execution_count": 1,
   "id": "01c2e477",
   "metadata": {
    "_cell_guid": "b1076dfc-b9ad-4769-8c92-a6c4dae69d19",
    "_uuid": "8f2839f25d086af736a60e9eeb907d3b93b6e0e5",
    "execution": {
     "iopub.execute_input": "2022-07-06T13:02:35.540268Z",
     "iopub.status.busy": "2022-07-06T13:02:35.539420Z",
     "iopub.status.idle": "2022-07-06T13:02:35.560047Z",
     "shell.execute_reply": "2022-07-06T13:02:35.559124Z"
    },
    "papermill": {
     "duration": 0.034938,
     "end_time": "2022-07-06T13:02:35.565865",
     "exception": false,
     "start_time": "2022-07-06T13:02:35.530927",
     "status": "completed"
    },
    "tags": []
   },
   "outputs": [
    {
     "name": "stdout",
     "output_type": "stream",
     "text": [
      "/kaggle/input/multinominallogistisregression/PertanianUAS.csv\n"
     ]
    }
   ],
   "source": [
    "# This Python 3 environment comes with many helpful analytics libraries installed\n",
    "# It is defined by the kaggle/python Docker image: https://github.com/kaggle/docker-python\n",
    "# For example, here's several helpful packages to load\n",
    "\n",
    "import numpy as np # linear algebra\n",
    "import pandas as pd # data processing, CSV file I/O (e.g. pd.read_csv)\n",
    "\n",
    "# Input data files are available in the read-only \"../input/\" directory\n",
    "# For example, running this (by clicking run or pressing Shift+Enter) will list all files under the input directory\n",
    "\n",
    "import os\n",
    "for dirname, _, filenames in os.walk('/kaggle/input'):\n",
    "    for filename in filenames:\n",
    "        print(os.path.join(dirname, filename))\n",
    "\n",
    "# You can write up to 20GB to the current directory (/kaggle/working/) that gets preserved as output when you create a version using \"Save & Run All\" \n",
    "# You can also write temporary files to /kaggle/temp/, but they won't be saved outside of the current session"
   ]
  },
  {
   "cell_type": "code",
   "execution_count": 2,
   "id": "3a75738f",
   "metadata": {
    "execution": {
     "iopub.execute_input": "2022-07-06T13:02:35.580233Z",
     "iopub.status.busy": "2022-07-06T13:02:35.579470Z",
     "iopub.status.idle": "2022-07-06T13:02:37.138643Z",
     "shell.execute_reply": "2022-07-06T13:02:37.137552Z"
    },
    "papermill": {
     "duration": 1.569253,
     "end_time": "2022-07-06T13:02:37.141402",
     "exception": false,
     "start_time": "2022-07-06T13:02:35.572149",
     "status": "completed"
    },
    "tags": []
   },
   "outputs": [],
   "source": [
    "import pandas as pd\n",
    "import seaborn as sns\n",
    "from sklearn.metrics import classification_report\n",
    "from sklearn.metrics import accuracy_score\n",
    "from sklearn.model_selection import train_test_split\n",
    "from sklearn.linear_model import LogisticRegression"
   ]
  },
  {
   "cell_type": "code",
   "execution_count": 3,
   "id": "8527880f",
   "metadata": {
    "execution": {
     "iopub.execute_input": "2022-07-06T13:02:37.156763Z",
     "iopub.status.busy": "2022-07-06T13:02:37.156395Z",
     "iopub.status.idle": "2022-07-06T13:02:37.187762Z",
     "shell.execute_reply": "2022-07-06T13:02:37.186651Z"
    },
    "papermill": {
     "duration": 0.041267,
     "end_time": "2022-07-06T13:02:37.190243",
     "exception": false,
     "start_time": "2022-07-06T13:02:37.148976",
     "status": "completed"
    },
    "tags": []
   },
   "outputs": [
    {
     "data": {
      "text/html": [
       "<div>\n",
       "<style scoped>\n",
       "    .dataframe tbody tr th:only-of-type {\n",
       "        vertical-align: middle;\n",
       "    }\n",
       "\n",
       "    .dataframe tbody tr th {\n",
       "        vertical-align: top;\n",
       "    }\n",
       "\n",
       "    .dataframe thead th {\n",
       "        text-align: right;\n",
       "    }\n",
       "</style>\n",
       "<table border=\"1\" class=\"dataframe\">\n",
       "  <thead>\n",
       "    <tr style=\"text-align: right;\">\n",
       "      <th></th>\n",
       "      <th>DER</th>\n",
       "      <th>Operating Profit Margin</th>\n",
       "      <th>Sales Growth</th>\n",
       "      <th>Return On Asset</th>\n",
       "      <th>Category</th>\n",
       "    </tr>\n",
       "  </thead>\n",
       "  <tbody>\n",
       "    <tr>\n",
       "      <th>0</th>\n",
       "      <td>0.135154</td>\n",
       "      <td>0.135154</td>\n",
       "      <td>1.293241</td>\n",
       "      <td>0.064848</td>\n",
       "      <td>1</td>\n",
       "    </tr>\n",
       "    <tr>\n",
       "      <th>1</th>\n",
       "      <td>0.758859</td>\n",
       "      <td>-0.064557</td>\n",
       "      <td>0.834610</td>\n",
       "      <td>-0.064974</td>\n",
       "      <td>1</td>\n",
       "    </tr>\n",
       "    <tr>\n",
       "      <th>2</th>\n",
       "      <td>0.395062</td>\n",
       "      <td>0.236027</td>\n",
       "      <td>1.625789</td>\n",
       "      <td>0.061328</td>\n",
       "      <td>2</td>\n",
       "    </tr>\n",
       "    <tr>\n",
       "      <th>3</th>\n",
       "      <td>0.000624</td>\n",
       "      <td>0.227386</td>\n",
       "      <td>0.797727</td>\n",
       "      <td>0.119392</td>\n",
       "      <td>1</td>\n",
       "    </tr>\n",
       "    <tr>\n",
       "      <th>4</th>\n",
       "      <td>1.239184</td>\n",
       "      <td>-2.007213</td>\n",
       "      <td>1.451510</td>\n",
       "      <td>-0.059932</td>\n",
       "      <td>4</td>\n",
       "    </tr>\n",
       "  </tbody>\n",
       "</table>\n",
       "</div>"
      ],
      "text/plain": [
       "        DER  Operating Profit Margin  Sales Growth  Return On Asset  Category\n",
       "0  0.135154                 0.135154      1.293241         0.064848         1\n",
       "1  0.758859                -0.064557      0.834610        -0.064974         1\n",
       "2  0.395062                 0.236027      1.625789         0.061328         2\n",
       "3  0.000624                 0.227386      0.797727         0.119392         1\n",
       "4  1.239184                -2.007213      1.451510        -0.059932         4"
      ]
     },
     "execution_count": 3,
     "metadata": {},
     "output_type": "execute_result"
    }
   ],
   "source": [
    "df = pd.read_csv('../input/multinominallogistisregression/PertanianUAS.csv')\n",
    "df.head()"
   ]
  },
  {
   "cell_type": "code",
   "execution_count": 4,
   "id": "b9a316ba",
   "metadata": {
    "execution": {
     "iopub.execute_input": "2022-07-06T13:02:37.203122Z",
     "iopub.status.busy": "2022-07-06T13:02:37.202515Z",
     "iopub.status.idle": "2022-07-06T13:02:37.211372Z",
     "shell.execute_reply": "2022-07-06T13:02:37.210294Z"
    },
    "papermill": {
     "duration": 0.01789,
     "end_time": "2022-07-06T13:02:37.213720",
     "exception": false,
     "start_time": "2022-07-06T13:02:37.195830",
     "status": "completed"
    },
    "tags": []
   },
   "outputs": [
    {
     "data": {
      "text/plain": [
       "array([[ 1.35154326e-01,  1.35154326e-01,  1.29324147e+00,\n",
       "         6.48477330e-02,  1.00000000e+00],\n",
       "       [ 7.58859160e-01, -6.45565480e-02,  8.34610166e-01,\n",
       "        -6.49736420e-02,  1.00000000e+00],\n",
       "       [ 3.95062270e-01,  2.36026568e-01,  1.62578915e+00,\n",
       "         6.13284300e-02,  2.00000000e+00],\n",
       "       [ 6.23580000e-04,  2.27386464e-01,  7.97726643e-01,\n",
       "         1.19392284e-01,  1.00000000e+00],\n",
       "       [ 1.23918365e+00, -2.00721268e+00,  1.45150996e+00,\n",
       "        -5.99320140e-02,  4.00000000e+00],\n",
       "       [ 3.51720847e+00, -4.12206492e-01,  1.33641854e+00,\n",
       "        -1.16518174e-01,  1.00000000e+00],\n",
       "       [ 5.08335265e+00,  3.31290314e-01,  1.05542852e+00,\n",
       "         4.05886354e-01,  2.00000000e+00],\n",
       "       [ 7.55672046e-01,  1.93574141e-01,  1.06352921e+00,\n",
       "         5.30297930e-02,  4.00000000e+00],\n",
       "       [ 6.24000055e-01, -3.19872460e-02,  1.05681644e+00,\n",
       "        -2.64757790e-02,  1.00000000e+00],\n",
       "       [ 1.06140122e+01,  5.25930500e-03,  6.37814498e-01,\n",
       "        -5.52244650e-02,  1.00000000e+00],\n",
       "       [ 8.34013000e-04,  2.75623565e-01,  1.27956743e+00,\n",
       "         8.36404340e-02,  1.00000000e+00],\n",
       "       [ 3.57070904e+00, -9.80924660e-01,  9.77536938e-01,\n",
       "        -1.78472190e-01,  3.00000000e+00],\n",
       "       [ 1.19241854e+00,  2.39856610e-02,  1.78084047e+00,\n",
       "         4.31474760e-02,  2.00000000e+00],\n",
       "       [ 1.44011876e+00,  2.09130653e-01,  1.89817074e+00,\n",
       "         5.73009870e-02,  4.00000000e+00],\n",
       "       [ 6.97245784e-01,  2.79514114e-01,  1.49113635e+00,\n",
       "         8.22536130e-02,  2.00000000e+00],\n",
       "       [ 4.92059783e-01,  1.50500986e-01,  1.35813032e+00,\n",
       "         2.73605640e-02,  1.00000000e+00],\n",
       "       [ 1.02678206e+00,  4.58206353e-01,  1.29716560e+00,\n",
       "         1.09418602e-01,  1.00000000e+00],\n",
       "       [ 1.64505738e+00,  1.38291493e-01,  1.27306024e+00,\n",
       "         4.24569790e-02,  1.00000000e+00],\n",
       "       [-1.32274335e+00,  1.95795668e-01,  1.26345540e+00,\n",
       "        -3.92088800e-03,  1.00000000e+00]])"
      ]
     },
     "execution_count": 4,
     "metadata": {},
     "output_type": "execute_result"
    }
   ],
   "source": [
    "np.asarray(df)"
   ]
  },
  {
   "cell_type": "code",
   "execution_count": 5,
   "id": "da324307",
   "metadata": {
    "execution": {
     "iopub.execute_input": "2022-07-06T13:02:37.226960Z",
     "iopub.status.busy": "2022-07-06T13:02:37.226173Z",
     "iopub.status.idle": "2022-07-06T13:02:38.083066Z",
     "shell.execute_reply": "2022-07-06T13:02:38.081807Z"
    },
    "papermill": {
     "duration": 0.866438,
     "end_time": "2022-07-06T13:02:38.085781",
     "exception": false,
     "start_time": "2022-07-06T13:02:37.219343",
     "status": "completed"
    },
    "tags": []
   },
   "outputs": [],
   "source": [
    "import statsmodels.api as sm"
   ]
  },
  {
   "cell_type": "code",
   "execution_count": 6,
   "id": "89c8ab56",
   "metadata": {
    "execution": {
     "iopub.execute_input": "2022-07-06T13:02:38.099142Z",
     "iopub.status.busy": "2022-07-06T13:02:38.098786Z",
     "iopub.status.idle": "2022-07-06T13:02:38.117806Z",
     "shell.execute_reply": "2022-07-06T13:02:38.116925Z"
    },
    "papermill": {
     "duration": 0.028269,
     "end_time": "2022-07-06T13:02:38.119664",
     "exception": false,
     "start_time": "2022-07-06T13:02:38.091395",
     "status": "completed"
    },
    "tags": []
   },
   "outputs": [
    {
     "data": {
      "text/html": [
       "<div>\n",
       "<style scoped>\n",
       "    .dataframe tbody tr th:only-of-type {\n",
       "        vertical-align: middle;\n",
       "    }\n",
       "\n",
       "    .dataframe tbody tr th {\n",
       "        vertical-align: top;\n",
       "    }\n",
       "\n",
       "    .dataframe thead th {\n",
       "        text-align: right;\n",
       "    }\n",
       "</style>\n",
       "<table border=\"1\" class=\"dataframe\">\n",
       "  <thead>\n",
       "    <tr style=\"text-align: right;\">\n",
       "      <th></th>\n",
       "      <th>DER</th>\n",
       "      <th>Operating Profit Margin</th>\n",
       "      <th>Sales Growth</th>\n",
       "      <th>Return On Asset</th>\n",
       "    </tr>\n",
       "  </thead>\n",
       "  <tbody>\n",
       "    <tr>\n",
       "      <th>0</th>\n",
       "      <td>0.135154</td>\n",
       "      <td>0.135154</td>\n",
       "      <td>1.293241</td>\n",
       "      <td>0.064848</td>\n",
       "    </tr>\n",
       "    <tr>\n",
       "      <th>1</th>\n",
       "      <td>0.758859</td>\n",
       "      <td>-0.064557</td>\n",
       "      <td>0.834610</td>\n",
       "      <td>-0.064974</td>\n",
       "    </tr>\n",
       "    <tr>\n",
       "      <th>2</th>\n",
       "      <td>0.395062</td>\n",
       "      <td>0.236027</td>\n",
       "      <td>1.625789</td>\n",
       "      <td>0.061328</td>\n",
       "    </tr>\n",
       "    <tr>\n",
       "      <th>3</th>\n",
       "      <td>0.000624</td>\n",
       "      <td>0.227386</td>\n",
       "      <td>0.797727</td>\n",
       "      <td>0.119392</td>\n",
       "    </tr>\n",
       "    <tr>\n",
       "      <th>4</th>\n",
       "      <td>1.239184</td>\n",
       "      <td>-2.007213</td>\n",
       "      <td>1.451510</td>\n",
       "      <td>-0.059932</td>\n",
       "    </tr>\n",
       "  </tbody>\n",
       "</table>\n",
       "</div>"
      ],
      "text/plain": [
       "        DER  Operating Profit Margin  Sales Growth  Return On Asset\n",
       "0  0.135154                 0.135154      1.293241         0.064848\n",
       "1  0.758859                -0.064557      0.834610        -0.064974\n",
       "2  0.395062                 0.236027      1.625789         0.061328\n",
       "3  0.000624                 0.227386      0.797727         0.119392\n",
       "4  1.239184                -2.007213      1.451510        -0.059932"
      ]
     },
     "execution_count": 6,
     "metadata": {},
     "output_type": "execute_result"
    }
   ],
   "source": [
    "x = df.drop('Category', axis=1)\n",
    "x.head()"
   ]
  },
  {
   "cell_type": "code",
   "execution_count": 7,
   "id": "3a7e758e",
   "metadata": {
    "execution": {
     "iopub.execute_input": "2022-07-06T13:02:38.132923Z",
     "iopub.status.busy": "2022-07-06T13:02:38.132244Z",
     "iopub.status.idle": "2022-07-06T13:02:38.141306Z",
     "shell.execute_reply": "2022-07-06T13:02:38.140350Z"
    },
    "papermill": {
     "duration": 0.017989,
     "end_time": "2022-07-06T13:02:38.143406",
     "exception": false,
     "start_time": "2022-07-06T13:02:38.125417",
     "status": "completed"
    },
    "tags": []
   },
   "outputs": [
    {
     "data": {
      "text/plain": [
       "0    1\n",
       "1    1\n",
       "2    2\n",
       "3    1\n",
       "4    4\n",
       "Name: Category, dtype: int64"
      ]
     },
     "execution_count": 7,
     "metadata": {},
     "output_type": "execute_result"
    }
   ],
   "source": [
    "y = df['Category']\n",
    "y.head()"
   ]
  },
  {
   "cell_type": "code",
   "execution_count": 8,
   "id": "ce560652",
   "metadata": {
    "execution": {
     "iopub.execute_input": "2022-07-06T13:02:38.156945Z",
     "iopub.status.busy": "2022-07-06T13:02:38.156267Z",
     "iopub.status.idle": "2022-07-06T13:02:38.161817Z",
     "shell.execute_reply": "2022-07-06T13:02:38.160906Z"
    },
    "papermill": {
     "duration": 0.01471,
     "end_time": "2022-07-06T13:02:38.163869",
     "exception": false,
     "start_time": "2022-07-06T13:02:38.149159",
     "status": "completed"
    },
    "tags": []
   },
   "outputs": [],
   "source": [
    "x_train, x_test, y_train, y_test = train_test_split(x,y, test_size=0.2)"
   ]
  },
  {
   "cell_type": "code",
   "execution_count": 9,
   "id": "dd3a6797",
   "metadata": {
    "execution": {
     "iopub.execute_input": "2022-07-06T13:02:38.177631Z",
     "iopub.status.busy": "2022-07-06T13:02:38.177032Z",
     "iopub.status.idle": "2022-07-06T13:02:38.194446Z",
     "shell.execute_reply": "2022-07-06T13:02:38.193638Z"
    },
    "papermill": {
     "duration": 0.027078,
     "end_time": "2022-07-06T13:02:38.196792",
     "exception": false,
     "start_time": "2022-07-06T13:02:38.169714",
     "status": "completed"
    },
    "tags": []
   },
   "outputs": [
    {
     "data": {
      "text/html": [
       "<div>\n",
       "<style scoped>\n",
       "    .dataframe tbody tr th:only-of-type {\n",
       "        vertical-align: middle;\n",
       "    }\n",
       "\n",
       "    .dataframe tbody tr th {\n",
       "        vertical-align: top;\n",
       "    }\n",
       "\n",
       "    .dataframe thead th {\n",
       "        text-align: right;\n",
       "    }\n",
       "</style>\n",
       "<table border=\"1\" class=\"dataframe\">\n",
       "  <thead>\n",
       "    <tr style=\"text-align: right;\">\n",
       "      <th></th>\n",
       "      <th>const</th>\n",
       "      <th>DER</th>\n",
       "      <th>Operating Profit Margin</th>\n",
       "      <th>Sales Growth</th>\n",
       "      <th>Return On Asset</th>\n",
       "    </tr>\n",
       "  </thead>\n",
       "  <tbody>\n",
       "    <tr>\n",
       "      <th>7</th>\n",
       "      <td>1.0</td>\n",
       "      <td>0.755672</td>\n",
       "      <td>0.193574</td>\n",
       "      <td>1.063529</td>\n",
       "      <td>0.053030</td>\n",
       "    </tr>\n",
       "    <tr>\n",
       "      <th>18</th>\n",
       "      <td>1.0</td>\n",
       "      <td>-1.322743</td>\n",
       "      <td>0.195796</td>\n",
       "      <td>1.263455</td>\n",
       "      <td>-0.003921</td>\n",
       "    </tr>\n",
       "    <tr>\n",
       "      <th>4</th>\n",
       "      <td>1.0</td>\n",
       "      <td>1.239184</td>\n",
       "      <td>-2.007213</td>\n",
       "      <td>1.451510</td>\n",
       "      <td>-0.059932</td>\n",
       "    </tr>\n",
       "    <tr>\n",
       "      <th>16</th>\n",
       "      <td>1.0</td>\n",
       "      <td>1.026782</td>\n",
       "      <td>0.458206</td>\n",
       "      <td>1.297166</td>\n",
       "      <td>0.109419</td>\n",
       "    </tr>\n",
       "    <tr>\n",
       "      <th>1</th>\n",
       "      <td>1.0</td>\n",
       "      <td>0.758859</td>\n",
       "      <td>-0.064557</td>\n",
       "      <td>0.834610</td>\n",
       "      <td>-0.064974</td>\n",
       "    </tr>\n",
       "    <tr>\n",
       "      <th>13</th>\n",
       "      <td>1.0</td>\n",
       "      <td>1.440119</td>\n",
       "      <td>0.209131</td>\n",
       "      <td>1.898171</td>\n",
       "      <td>0.057301</td>\n",
       "    </tr>\n",
       "    <tr>\n",
       "      <th>0</th>\n",
       "      <td>1.0</td>\n",
       "      <td>0.135154</td>\n",
       "      <td>0.135154</td>\n",
       "      <td>1.293241</td>\n",
       "      <td>0.064848</td>\n",
       "    </tr>\n",
       "    <tr>\n",
       "      <th>17</th>\n",
       "      <td>1.0</td>\n",
       "      <td>1.645057</td>\n",
       "      <td>0.138291</td>\n",
       "      <td>1.273060</td>\n",
       "      <td>0.042457</td>\n",
       "    </tr>\n",
       "    <tr>\n",
       "      <th>9</th>\n",
       "      <td>1.0</td>\n",
       "      <td>10.614012</td>\n",
       "      <td>0.005259</td>\n",
       "      <td>0.637814</td>\n",
       "      <td>-0.055224</td>\n",
       "    </tr>\n",
       "    <tr>\n",
       "      <th>14</th>\n",
       "      <td>1.0</td>\n",
       "      <td>0.697246</td>\n",
       "      <td>0.279514</td>\n",
       "      <td>1.491136</td>\n",
       "      <td>0.082254</td>\n",
       "    </tr>\n",
       "    <tr>\n",
       "      <th>8</th>\n",
       "      <td>1.0</td>\n",
       "      <td>0.624000</td>\n",
       "      <td>-0.031987</td>\n",
       "      <td>1.056816</td>\n",
       "      <td>-0.026476</td>\n",
       "    </tr>\n",
       "    <tr>\n",
       "      <th>3</th>\n",
       "      <td>1.0</td>\n",
       "      <td>0.000624</td>\n",
       "      <td>0.227386</td>\n",
       "      <td>0.797727</td>\n",
       "      <td>0.119392</td>\n",
       "    </tr>\n",
       "    <tr>\n",
       "      <th>15</th>\n",
       "      <td>1.0</td>\n",
       "      <td>0.492060</td>\n",
       "      <td>0.150501</td>\n",
       "      <td>1.358130</td>\n",
       "      <td>0.027361</td>\n",
       "    </tr>\n",
       "    <tr>\n",
       "      <th>12</th>\n",
       "      <td>1.0</td>\n",
       "      <td>1.192419</td>\n",
       "      <td>0.023986</td>\n",
       "      <td>1.780840</td>\n",
       "      <td>0.043147</td>\n",
       "    </tr>\n",
       "    <tr>\n",
       "      <th>10</th>\n",
       "      <td>1.0</td>\n",
       "      <td>0.000834</td>\n",
       "      <td>0.275624</td>\n",
       "      <td>1.279567</td>\n",
       "      <td>0.083640</td>\n",
       "    </tr>\n",
       "  </tbody>\n",
       "</table>\n",
       "</div>"
      ],
      "text/plain": [
       "    const        DER  Operating Profit Margin  Sales Growth  Return On Asset\n",
       "7     1.0   0.755672                 0.193574      1.063529         0.053030\n",
       "18    1.0  -1.322743                 0.195796      1.263455        -0.003921\n",
       "4     1.0   1.239184                -2.007213      1.451510        -0.059932\n",
       "16    1.0   1.026782                 0.458206      1.297166         0.109419\n",
       "1     1.0   0.758859                -0.064557      0.834610        -0.064974\n",
       "13    1.0   1.440119                 0.209131      1.898171         0.057301\n",
       "0     1.0   0.135154                 0.135154      1.293241         0.064848\n",
       "17    1.0   1.645057                 0.138291      1.273060         0.042457\n",
       "9     1.0  10.614012                 0.005259      0.637814        -0.055224\n",
       "14    1.0   0.697246                 0.279514      1.491136         0.082254\n",
       "8     1.0   0.624000                -0.031987      1.056816        -0.026476\n",
       "3     1.0   0.000624                 0.227386      0.797727         0.119392\n",
       "15    1.0   0.492060                 0.150501      1.358130         0.027361\n",
       "12    1.0   1.192419                 0.023986      1.780840         0.043147\n",
       "10    1.0   0.000834                 0.275624      1.279567         0.083640"
      ]
     },
     "execution_count": 9,
     "metadata": {},
     "output_type": "execute_result"
    }
   ],
   "source": [
    "x_train_sm = sm.add_constant(x_train)\n",
    "x_train_sm"
   ]
  },
  {
   "cell_type": "code",
   "execution_count": 10,
   "id": "6fc7f096",
   "metadata": {
    "execution": {
     "iopub.execute_input": "2022-07-06T13:02:38.211478Z",
     "iopub.status.busy": "2022-07-06T13:02:38.210738Z",
     "iopub.status.idle": "2022-07-06T13:02:38.250433Z",
     "shell.execute_reply": "2022-07-06T13:02:38.247736Z"
    },
    "papermill": {
     "duration": 0.053098,
     "end_time": "2022-07-06T13:02:38.256141",
     "exception": false,
     "start_time": "2022-07-06T13:02:38.203043",
     "status": "completed"
    },
    "tags": []
   },
   "outputs": [
    {
     "name": "stdout",
     "output_type": "stream",
     "text": [
      "Optimization terminated successfully.\n",
      "         Current function value: 0.490622\n",
      "         Iterations 11\n"
     ]
    }
   ],
   "source": [
    "#logit_mod = sm.Logit(y_train, x_train_sm\n",
    "                     \n",
    "mnlogit_mod = sm.MNLogit(y_train, x_train_sm)\n",
    "mnlogit_fit = mnlogit_mod.fit()"
   ]
  },
  {
   "cell_type": "code",
   "execution_count": 11,
   "id": "104f2224",
   "metadata": {
    "execution": {
     "iopub.execute_input": "2022-07-06T13:02:38.282436Z",
     "iopub.status.busy": "2022-07-06T13:02:38.281809Z",
     "iopub.status.idle": "2022-07-06T13:02:38.357449Z",
     "shell.execute_reply": "2022-07-06T13:02:38.354987Z"
    },
    "papermill": {
     "duration": 0.093515,
     "end_time": "2022-07-06T13:02:38.362017",
     "exception": false,
     "start_time": "2022-07-06T13:02:38.268502",
     "status": "completed"
    },
    "tags": []
   },
   "outputs": [
    {
     "name": "stdout",
     "output_type": "stream",
     "text": [
      "                          MNLogit Regression Results                          \n",
      "==============================================================================\n",
      "Dep. Variable:               Category   No. Observations:                   15\n",
      "Model:                        MNLogit   Df Residuals:                        5\n",
      "Method:                           MLE   Df Model:                            8\n",
      "Date:                Wed, 06 Jul 2022   Pseudo R-squ.:                  0.4301\n",
      "Time:                        13:02:38   Log-Likelihood:                -7.3593\n",
      "converged:                       True   LL-Null:                       -12.913\n",
      "Covariance Type:            nonrobust   LLR p-value:                    0.1957\n",
      "===========================================================================================\n",
      "             Category=2       coef    std err          z      P>|z|      [0.025      0.975]\n",
      "-------------------------------------------------------------------------------------------\n",
      "const                     -23.5106     27.318     -0.861      0.389     -77.053      30.032\n",
      "DER                        -2.1718      5.183     -0.419      0.675     -12.330       7.987\n",
      "Operating Profit Margin    -9.2403     15.819     -0.584      0.559     -40.245      21.765\n",
      "Sales Growth               13.5834     15.142      0.897      0.370     -16.094      43.261\n",
      "Return On Asset            90.6854    154.681      0.586      0.558    -212.483     393.854\n",
      "-------------------------------------------------------------------------------------------\n",
      "             Category=4       coef    std err          z      P>|z|      [0.025      0.975]\n",
      "-------------------------------------------------------------------------------------------\n",
      "const                      -8.2184      5.573     -1.475      0.140     -19.142       2.705\n",
      "DER                         0.2851      0.581      0.491      0.623      -0.853       1.423\n",
      "Operating Profit Margin    -5.7687     11.768     -0.490      0.624     -28.834      17.297\n",
      "Sales Growth                5.0469      3.919      1.288      0.198      -2.634      12.728\n",
      "Return On Asset            19.1616     41.463      0.462      0.644     -62.104     100.427\n",
      "===========================================================================================\n"
     ]
    }
   ],
   "source": [
    "print (mnlogit_fit.summary())"
   ]
  },
  {
   "cell_type": "code",
   "execution_count": 12,
   "id": "385c524c",
   "metadata": {
    "execution": {
     "iopub.execute_input": "2022-07-06T13:02:38.377703Z",
     "iopub.status.busy": "2022-07-06T13:02:38.377341Z",
     "iopub.status.idle": "2022-07-06T13:02:38.398053Z",
     "shell.execute_reply": "2022-07-06T13:02:38.397038Z"
    },
    "papermill": {
     "duration": 0.03105,
     "end_time": "2022-07-06T13:02:38.400767",
     "exception": false,
     "start_time": "2022-07-06T13:02:38.369717",
     "status": "completed"
    },
    "tags": []
   },
   "outputs": [
    {
     "data": {
      "text/plain": [
       "LogisticRegression()"
      ]
     },
     "execution_count": 12,
     "metadata": {},
     "output_type": "execute_result"
    }
   ],
   "source": [
    "model = LogisticRegression(multi_class='auto')\n",
    "model.fit(x_train, y_train)"
   ]
  },
  {
   "cell_type": "code",
   "execution_count": 13,
   "id": "7932e8f9",
   "metadata": {
    "execution": {
     "iopub.execute_input": "2022-07-06T13:02:38.416239Z",
     "iopub.status.busy": "2022-07-06T13:02:38.415180Z",
     "iopub.status.idle": "2022-07-06T13:02:38.424731Z",
     "shell.execute_reply": "2022-07-06T13:02:38.423640Z"
    },
    "papermill": {
     "duration": 0.019609,
     "end_time": "2022-07-06T13:02:38.426985",
     "exception": false,
     "start_time": "2022-07-06T13:02:38.407376",
     "status": "completed"
    },
    "tags": []
   },
   "outputs": [
    {
     "data": {
      "text/plain": [
       "array([[0.77768952, 0.10014904, 0.12216144],\n",
       "       [0.58603759, 0.13521072, 0.27875168],\n",
       "       [0.59796747, 0.19366052, 0.20837201],\n",
       "       [0.58677375, 0.09210022, 0.32112604]])"
      ]
     },
     "execution_count": 13,
     "metadata": {},
     "output_type": "execute_result"
    }
   ],
   "source": [
    "model.predict_proba(x_test)[0:5]"
   ]
  },
  {
   "cell_type": "code",
   "execution_count": 14,
   "id": "cad1b330",
   "metadata": {
    "execution": {
     "iopub.execute_input": "2022-07-06T13:02:38.441938Z",
     "iopub.status.busy": "2022-07-06T13:02:38.441574Z",
     "iopub.status.idle": "2022-07-06T13:02:38.450299Z",
     "shell.execute_reply": "2022-07-06T13:02:38.449395Z"
    },
    "papermill": {
     "duration": 0.018849,
     "end_time": "2022-07-06T13:02:38.452473",
     "exception": false,
     "start_time": "2022-07-06T13:02:38.433624",
     "status": "completed"
    },
    "tags": []
   },
   "outputs": [
    {
     "data": {
      "text/plain": [
       "array([1, 1, 1, 1])"
      ]
     },
     "execution_count": 14,
     "metadata": {},
     "output_type": "execute_result"
    }
   ],
   "source": [
    "predictions = model.predict(x_test)\n",
    "predictions"
   ]
  },
  {
   "cell_type": "code",
   "execution_count": 15,
   "id": "61f3105a",
   "metadata": {
    "execution": {
     "iopub.execute_input": "2022-07-06T13:02:38.468400Z",
     "iopub.status.busy": "2022-07-06T13:02:38.467601Z",
     "iopub.status.idle": "2022-07-06T13:02:38.482762Z",
     "shell.execute_reply": "2022-07-06T13:02:38.481197Z"
    },
    "papermill": {
     "duration": 0.02705,
     "end_time": "2022-07-06T13:02:38.486272",
     "exception": false,
     "start_time": "2022-07-06T13:02:38.459222",
     "status": "completed"
    },
    "tags": []
   },
   "outputs": [
    {
     "name": "stdout",
     "output_type": "stream",
     "text": [
      "              precision    recall  f1-score   support\n",
      "\n",
      "           1       0.25      1.00      0.40         1\n",
      "           2       0.00      0.00      0.00         2\n",
      "           3       0.00      0.00      0.00         1\n",
      "\n",
      "    accuracy                           0.25         4\n",
      "   macro avg       0.08      0.33      0.13         4\n",
      "weighted avg       0.06      0.25      0.10         4\n",
      "\n"
     ]
    },
    {
     "name": "stderr",
     "output_type": "stream",
     "text": [
      "/opt/conda/lib/python3.7/site-packages/sklearn/metrics/_classification.py:1318: UndefinedMetricWarning: Precision and F-score are ill-defined and being set to 0.0 in labels with no predicted samples. Use `zero_division` parameter to control this behavior.\n",
      "  _warn_prf(average, modifier, msg_start, len(result))\n",
      "/opt/conda/lib/python3.7/site-packages/sklearn/metrics/_classification.py:1318: UndefinedMetricWarning: Precision and F-score are ill-defined and being set to 0.0 in labels with no predicted samples. Use `zero_division` parameter to control this behavior.\n",
      "  _warn_prf(average, modifier, msg_start, len(result))\n",
      "/opt/conda/lib/python3.7/site-packages/sklearn/metrics/_classification.py:1318: UndefinedMetricWarning: Precision and F-score are ill-defined and being set to 0.0 in labels with no predicted samples. Use `zero_division` parameter to control this behavior.\n",
      "  _warn_prf(average, modifier, msg_start, len(result))\n"
     ]
    }
   ],
   "source": [
    "print(classification_report(y_test, predictions))"
   ]
  },
  {
   "cell_type": "code",
   "execution_count": 16,
   "id": "c43ee5c2",
   "metadata": {
    "execution": {
     "iopub.execute_input": "2022-07-06T13:02:38.502381Z",
     "iopub.status.busy": "2022-07-06T13:02:38.501989Z",
     "iopub.status.idle": "2022-07-06T13:02:38.509546Z",
     "shell.execute_reply": "2022-07-06T13:02:38.508079Z"
    },
    "papermill": {
     "duration": 0.019882,
     "end_time": "2022-07-06T13:02:38.513603",
     "exception": false,
     "start_time": "2022-07-06T13:02:38.493721",
     "status": "completed"
    },
    "tags": []
   },
   "outputs": [
    {
     "name": "stdout",
     "output_type": "stream",
     "text": [
      "0.25\n"
     ]
    }
   ],
   "source": [
    "print(accuracy_score(y_test, predictions))"
   ]
  }
 ],
 "metadata": {
  "kernelspec": {
   "display_name": "Python 3",
   "language": "python",
   "name": "python3"
  },
  "language_info": {
   "codemirror_mode": {
    "name": "ipython",
    "version": 3
   },
   "file_extension": ".py",
   "mimetype": "text/x-python",
   "name": "python",
   "nbconvert_exporter": "python",
   "pygments_lexer": "ipython3",
   "version": "3.7.12"
  },
  "papermill": {
   "default_parameters": {},
   "duration": 14.394281,
   "end_time": "2022-07-06T13:02:39.343159",
   "environment_variables": {},
   "exception": null,
   "input_path": "__notebook__.ipynb",
   "output_path": "__notebook__.ipynb",
   "parameters": {},
   "start_time": "2022-07-06T13:02:24.948878",
   "version": "2.3.4"
  }
 },
 "nbformat": 4,
 "nbformat_minor": 5
}
