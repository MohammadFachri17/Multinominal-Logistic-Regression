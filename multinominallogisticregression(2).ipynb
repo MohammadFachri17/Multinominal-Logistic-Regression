{
 "cells": [
  {
   "cell_type": "code",
   "execution_count": 1,
   "id": "ca0a1302",
   "metadata": {
    "_cell_guid": "b1076dfc-b9ad-4769-8c92-a6c4dae69d19",
    "_uuid": "8f2839f25d086af736a60e9eeb907d3b93b6e0e5",
    "execution": {
     "iopub.execute_input": "2022-07-06T09:25:48.123846Z",
     "iopub.status.busy": "2022-07-06T09:25:48.123371Z",
     "iopub.status.idle": "2022-07-06T09:25:48.145853Z",
     "shell.execute_reply": "2022-07-06T09:25:48.144662Z"
    },
    "papermill": {
     "duration": 0.033272,
     "end_time": "2022-07-06T09:25:48.148578",
     "exception": false,
     "start_time": "2022-07-06T09:25:48.115306",
     "status": "completed"
    },
    "tags": []
   },
   "outputs": [
    {
     "name": "stdout",
     "output_type": "stream",
     "text": [
      "/kaggle/input/multinominallogistisregression/PertanianUAS.csv\n"
     ]
    }
   ],
   "source": [
    "# This Python 3 environment comes with many helpful analytics libraries installed\n",
    "# It is defined by the kaggle/python Docker image: https://github.com/kaggle/docker-python\n",
    "# For example, here's several helpful packages to load\n",
    "\n",
    "import numpy as np # linear algebra\n",
    "import pandas as pd # data processing, CSV file I/O (e.g. pd.read_csv)\n",
    "\n",
    "# Input data files are available in the read-only \"../input/\" directory\n",
    "# For example, running this (by clicking run or pressing Shift+Enter) will list all files under the input directory\n",
    "\n",
    "import os\n",
    "for dirname, _, filenames in os.walk('/kaggle/input'):\n",
    "    for filename in filenames:\n",
    "        print(os.path.join(dirname, filename))\n",
    "\n",
    "# You can write up to 20GB to the current directory (/kaggle/working/) that gets preserved as output when you create a version using \"Save & Run All\" \n",
    "# You can also write temporary files to /kaggle/temp/, but they won't be saved outside of the current session"
   ]
  },
  {
   "cell_type": "code",
   "execution_count": 2,
   "id": "920f7ade",
   "metadata": {
    "execution": {
     "iopub.execute_input": "2022-07-06T09:25:48.161469Z",
     "iopub.status.busy": "2022-07-06T09:25:48.160749Z",
     "iopub.status.idle": "2022-07-06T09:25:49.545220Z",
     "shell.execute_reply": "2022-07-06T09:25:49.544124Z"
    },
    "papermill": {
     "duration": 1.394011,
     "end_time": "2022-07-06T09:25:49.548085",
     "exception": false,
     "start_time": "2022-07-06T09:25:48.154074",
     "status": "completed"
    },
    "tags": []
   },
   "outputs": [],
   "source": [
    "import pandas as pd\n",
    "import seaborn as sns\n",
    "from sklearn.metrics import classification_report\n",
    "from sklearn.metrics import accuracy_score\n",
    "from sklearn.model_selection import train_test_split\n",
    "from sklearn.linear_model import LogisticRegression"
   ]
  },
  {
   "cell_type": "code",
   "execution_count": 3,
   "id": "9169af6f",
   "metadata": {
    "execution": {
     "iopub.execute_input": "2022-07-06T09:25:49.560671Z",
     "iopub.status.busy": "2022-07-06T09:25:49.560265Z",
     "iopub.status.idle": "2022-07-06T09:25:49.591515Z",
     "shell.execute_reply": "2022-07-06T09:25:49.590313Z"
    },
    "papermill": {
     "duration": 0.040587,
     "end_time": "2022-07-06T09:25:49.594102",
     "exception": false,
     "start_time": "2022-07-06T09:25:49.553515",
     "status": "completed"
    },
    "tags": []
   },
   "outputs": [
    {
     "data": {
      "text/html": [
       "<div>\n",
       "<style scoped>\n",
       "    .dataframe tbody tr th:only-of-type {\n",
       "        vertical-align: middle;\n",
       "    }\n",
       "\n",
       "    .dataframe tbody tr th {\n",
       "        vertical-align: top;\n",
       "    }\n",
       "\n",
       "    .dataframe thead th {\n",
       "        text-align: right;\n",
       "    }\n",
       "</style>\n",
       "<table border=\"1\" class=\"dataframe\">\n",
       "  <thead>\n",
       "    <tr style=\"text-align: right;\">\n",
       "      <th></th>\n",
       "      <th>DER</th>\n",
       "      <th>Operating Profit Margin</th>\n",
       "      <th>Sales Growth</th>\n",
       "      <th>Return On Asset</th>\n",
       "      <th>Category</th>\n",
       "    </tr>\n",
       "  </thead>\n",
       "  <tbody>\n",
       "    <tr>\n",
       "      <th>0</th>\n",
       "      <td>0.135154</td>\n",
       "      <td>0.135154</td>\n",
       "      <td>1.293241</td>\n",
       "      <td>0.064848</td>\n",
       "      <td>1</td>\n",
       "    </tr>\n",
       "    <tr>\n",
       "      <th>1</th>\n",
       "      <td>0.758859</td>\n",
       "      <td>-0.064557</td>\n",
       "      <td>0.834610</td>\n",
       "      <td>-0.064974</td>\n",
       "      <td>1</td>\n",
       "    </tr>\n",
       "    <tr>\n",
       "      <th>2</th>\n",
       "      <td>0.395062</td>\n",
       "      <td>0.236027</td>\n",
       "      <td>1.625789</td>\n",
       "      <td>0.061328</td>\n",
       "      <td>2</td>\n",
       "    </tr>\n",
       "    <tr>\n",
       "      <th>3</th>\n",
       "      <td>0.000624</td>\n",
       "      <td>0.227386</td>\n",
       "      <td>0.797727</td>\n",
       "      <td>0.119392</td>\n",
       "      <td>1</td>\n",
       "    </tr>\n",
       "    <tr>\n",
       "      <th>4</th>\n",
       "      <td>1.239184</td>\n",
       "      <td>-2.007213</td>\n",
       "      <td>1.451510</td>\n",
       "      <td>-0.059932</td>\n",
       "      <td>4</td>\n",
       "    </tr>\n",
       "  </tbody>\n",
       "</table>\n",
       "</div>"
      ],
      "text/plain": [
       "        DER  Operating Profit Margin  Sales Growth  Return On Asset  Category\n",
       "0  0.135154                 0.135154      1.293241         0.064848         1\n",
       "1  0.758859                -0.064557      0.834610        -0.064974         1\n",
       "2  0.395062                 0.236027      1.625789         0.061328         2\n",
       "3  0.000624                 0.227386      0.797727         0.119392         1\n",
       "4  1.239184                -2.007213      1.451510        -0.059932         4"
      ]
     },
     "execution_count": 3,
     "metadata": {},
     "output_type": "execute_result"
    }
   ],
   "source": [
    "df = pd.read_csv('../input/multinominallogistisregression/PertanianUAS.csv')\n",
    "df.head()"
   ]
  },
  {
   "cell_type": "code",
   "execution_count": 4,
   "id": "f82ff0e8",
   "metadata": {
    "execution": {
     "iopub.execute_input": "2022-07-06T09:25:49.606822Z",
     "iopub.status.busy": "2022-07-06T09:25:49.606397Z",
     "iopub.status.idle": "2022-07-06T09:25:49.616802Z",
     "shell.execute_reply": "2022-07-06T09:25:49.615774Z"
    },
    "papermill": {
     "duration": 0.019015,
     "end_time": "2022-07-06T09:25:49.619076",
     "exception": false,
     "start_time": "2022-07-06T09:25:49.600061",
     "status": "completed"
    },
    "tags": []
   },
   "outputs": [
    {
     "data": {
      "text/plain": [
       "array([[ 1.35154326e-01,  1.35154326e-01,  1.29324147e+00,\n",
       "         6.48477330e-02,  1.00000000e+00],\n",
       "       [ 7.58859160e-01, -6.45565480e-02,  8.34610166e-01,\n",
       "        -6.49736420e-02,  1.00000000e+00],\n",
       "       [ 3.95062270e-01,  2.36026568e-01,  1.62578915e+00,\n",
       "         6.13284300e-02,  2.00000000e+00],\n",
       "       [ 6.23580000e-04,  2.27386464e-01,  7.97726643e-01,\n",
       "         1.19392284e-01,  1.00000000e+00],\n",
       "       [ 1.23918365e+00, -2.00721268e+00,  1.45150996e+00,\n",
       "        -5.99320140e-02,  4.00000000e+00],\n",
       "       [ 3.51720847e+00, -4.12206492e-01,  1.33641854e+00,\n",
       "        -1.16518174e-01,  1.00000000e+00],\n",
       "       [ 5.08335265e+00,  3.31290314e-01,  1.05542852e+00,\n",
       "         4.05886354e-01,  2.00000000e+00],\n",
       "       [ 7.55672046e-01,  1.93574141e-01,  1.06352921e+00,\n",
       "         5.30297930e-02,  4.00000000e+00],\n",
       "       [ 6.24000055e-01, -3.19872460e-02,  1.05681644e+00,\n",
       "        -2.64757790e-02,  1.00000000e+00],\n",
       "       [ 1.06140122e+01,  5.25930500e-03,  6.37814498e-01,\n",
       "        -5.52244650e-02,  1.00000000e+00],\n",
       "       [ 8.34013000e-04,  2.75623565e-01,  1.27956743e+00,\n",
       "         8.36404340e-02,  1.00000000e+00],\n",
       "       [ 3.57070904e+00, -9.80924660e-01,  9.77536938e-01,\n",
       "        -1.78472190e-01,  3.00000000e+00],\n",
       "       [ 1.19241854e+00,  2.39856610e-02,  1.78084047e+00,\n",
       "         4.31474760e-02,  2.00000000e+00],\n",
       "       [ 1.44011876e+00,  2.09130653e-01,  1.89817074e+00,\n",
       "         5.73009870e-02,  4.00000000e+00],\n",
       "       [ 6.97245784e-01,  2.79514114e-01,  1.49113635e+00,\n",
       "         8.22536130e-02,  2.00000000e+00],\n",
       "       [ 4.92059783e-01,  1.50500986e-01,  1.35813032e+00,\n",
       "         2.73605640e-02,  1.00000000e+00],\n",
       "       [ 1.02678206e+00,  4.58206353e-01,  1.29716560e+00,\n",
       "         1.09418602e-01,  1.00000000e+00],\n",
       "       [ 1.64505738e+00,  1.38291493e-01,  1.27306024e+00,\n",
       "         4.24569790e-02,  1.00000000e+00],\n",
       "       [-1.32274335e+00,  1.95795668e-01,  1.26345540e+00,\n",
       "        -3.92088800e-03,  1.00000000e+00]])"
      ]
     },
     "execution_count": 4,
     "metadata": {},
     "output_type": "execute_result"
    }
   ],
   "source": [
    "np.asarray(df)"
   ]
  },
  {
   "cell_type": "code",
   "execution_count": 5,
   "id": "e2b59463",
   "metadata": {
    "execution": {
     "iopub.execute_input": "2022-07-06T09:25:49.632196Z",
     "iopub.status.busy": "2022-07-06T09:25:49.631817Z",
     "iopub.status.idle": "2022-07-06T09:25:50.315209Z",
     "shell.execute_reply": "2022-07-06T09:25:50.314154Z"
    },
    "papermill": {
     "duration": 0.693065,
     "end_time": "2022-07-06T09:25:50.317921",
     "exception": false,
     "start_time": "2022-07-06T09:25:49.624856",
     "status": "completed"
    },
    "tags": []
   },
   "outputs": [],
   "source": [
    "import statsmodels.api as sm"
   ]
  },
  {
   "cell_type": "code",
   "execution_count": 6,
   "id": "3d7742a1",
   "metadata": {
    "execution": {
     "iopub.execute_input": "2022-07-06T09:25:50.332769Z",
     "iopub.status.busy": "2022-07-06T09:25:50.331711Z",
     "iopub.status.idle": "2022-07-06T09:25:50.350350Z",
     "shell.execute_reply": "2022-07-06T09:25:50.349173Z"
    },
    "papermill": {
     "duration": 0.028281,
     "end_time": "2022-07-06T09:25:50.352889",
     "exception": false,
     "start_time": "2022-07-06T09:25:50.324608",
     "status": "completed"
    },
    "tags": []
   },
   "outputs": [
    {
     "data": {
      "text/html": [
       "<div>\n",
       "<style scoped>\n",
       "    .dataframe tbody tr th:only-of-type {\n",
       "        vertical-align: middle;\n",
       "    }\n",
       "\n",
       "    .dataframe tbody tr th {\n",
       "        vertical-align: top;\n",
       "    }\n",
       "\n",
       "    .dataframe thead th {\n",
       "        text-align: right;\n",
       "    }\n",
       "</style>\n",
       "<table border=\"1\" class=\"dataframe\">\n",
       "  <thead>\n",
       "    <tr style=\"text-align: right;\">\n",
       "      <th></th>\n",
       "      <th>DER</th>\n",
       "      <th>Operating Profit Margin</th>\n",
       "      <th>Sales Growth</th>\n",
       "      <th>Return On Asset</th>\n",
       "    </tr>\n",
       "  </thead>\n",
       "  <tbody>\n",
       "    <tr>\n",
       "      <th>0</th>\n",
       "      <td>0.135154</td>\n",
       "      <td>0.135154</td>\n",
       "      <td>1.293241</td>\n",
       "      <td>0.064848</td>\n",
       "    </tr>\n",
       "    <tr>\n",
       "      <th>1</th>\n",
       "      <td>0.758859</td>\n",
       "      <td>-0.064557</td>\n",
       "      <td>0.834610</td>\n",
       "      <td>-0.064974</td>\n",
       "    </tr>\n",
       "    <tr>\n",
       "      <th>2</th>\n",
       "      <td>0.395062</td>\n",
       "      <td>0.236027</td>\n",
       "      <td>1.625789</td>\n",
       "      <td>0.061328</td>\n",
       "    </tr>\n",
       "    <tr>\n",
       "      <th>3</th>\n",
       "      <td>0.000624</td>\n",
       "      <td>0.227386</td>\n",
       "      <td>0.797727</td>\n",
       "      <td>0.119392</td>\n",
       "    </tr>\n",
       "    <tr>\n",
       "      <th>4</th>\n",
       "      <td>1.239184</td>\n",
       "      <td>-2.007213</td>\n",
       "      <td>1.451510</td>\n",
       "      <td>-0.059932</td>\n",
       "    </tr>\n",
       "  </tbody>\n",
       "</table>\n",
       "</div>"
      ],
      "text/plain": [
       "        DER  Operating Profit Margin  Sales Growth  Return On Asset\n",
       "0  0.135154                 0.135154      1.293241         0.064848\n",
       "1  0.758859                -0.064557      0.834610        -0.064974\n",
       "2  0.395062                 0.236027      1.625789         0.061328\n",
       "3  0.000624                 0.227386      0.797727         0.119392\n",
       "4  1.239184                -2.007213      1.451510        -0.059932"
      ]
     },
     "execution_count": 6,
     "metadata": {},
     "output_type": "execute_result"
    }
   ],
   "source": [
    "x = df.drop('Category', axis=1)\n",
    "x.head()"
   ]
  },
  {
   "cell_type": "code",
   "execution_count": 7,
   "id": "95d7a955",
   "metadata": {
    "execution": {
     "iopub.execute_input": "2022-07-06T09:25:50.366532Z",
     "iopub.status.busy": "2022-07-06T09:25:50.366133Z",
     "iopub.status.idle": "2022-07-06T09:25:50.376515Z",
     "shell.execute_reply": "2022-07-06T09:25:50.375338Z"
    },
    "papermill": {
     "duration": 0.020147,
     "end_time": "2022-07-06T09:25:50.378970",
     "exception": false,
     "start_time": "2022-07-06T09:25:50.358823",
     "status": "completed"
    },
    "tags": []
   },
   "outputs": [
    {
     "data": {
      "text/plain": [
       "0    1\n",
       "1    1\n",
       "2    2\n",
       "3    1\n",
       "4    4\n",
       "Name: Category, dtype: int64"
      ]
     },
     "execution_count": 7,
     "metadata": {},
     "output_type": "execute_result"
    }
   ],
   "source": [
    "y = df['Category']\n",
    "y.head()"
   ]
  },
  {
   "cell_type": "code",
   "execution_count": 8,
   "id": "1fe3c012",
   "metadata": {
    "execution": {
     "iopub.execute_input": "2022-07-06T09:25:50.393625Z",
     "iopub.status.busy": "2022-07-06T09:25:50.393237Z",
     "iopub.status.idle": "2022-07-06T09:25:50.400297Z",
     "shell.execute_reply": "2022-07-06T09:25:50.398846Z"
    },
    "papermill": {
     "duration": 0.017068,
     "end_time": "2022-07-06T09:25:50.402665",
     "exception": false,
     "start_time": "2022-07-06T09:25:50.385597",
     "status": "completed"
    },
    "tags": []
   },
   "outputs": [],
   "source": [
    "x_train, x_test, y_train, y_test = train_test_split(x,y, test_size=0.2)"
   ]
  },
  {
   "cell_type": "code",
   "execution_count": 9,
   "id": "278abc52",
   "metadata": {
    "execution": {
     "iopub.execute_input": "2022-07-06T09:25:50.416661Z",
     "iopub.status.busy": "2022-07-06T09:25:50.416255Z",
     "iopub.status.idle": "2022-07-06T09:25:50.435342Z",
     "shell.execute_reply": "2022-07-06T09:25:50.434257Z"
    },
    "papermill": {
     "duration": 0.028763,
     "end_time": "2022-07-06T09:25:50.437562",
     "exception": false,
     "start_time": "2022-07-06T09:25:50.408799",
     "status": "completed"
    },
    "tags": []
   },
   "outputs": [
    {
     "data": {
      "text/html": [
       "<div>\n",
       "<style scoped>\n",
       "    .dataframe tbody tr th:only-of-type {\n",
       "        vertical-align: middle;\n",
       "    }\n",
       "\n",
       "    .dataframe tbody tr th {\n",
       "        vertical-align: top;\n",
       "    }\n",
       "\n",
       "    .dataframe thead th {\n",
       "        text-align: right;\n",
       "    }\n",
       "</style>\n",
       "<table border=\"1\" class=\"dataframe\">\n",
       "  <thead>\n",
       "    <tr style=\"text-align: right;\">\n",
       "      <th></th>\n",
       "      <th>const</th>\n",
       "      <th>DER</th>\n",
       "      <th>Operating Profit Margin</th>\n",
       "      <th>Sales Growth</th>\n",
       "      <th>Return On Asset</th>\n",
       "    </tr>\n",
       "  </thead>\n",
       "  <tbody>\n",
       "    <tr>\n",
       "      <th>16</th>\n",
       "      <td>1.0</td>\n",
       "      <td>1.026782</td>\n",
       "      <td>0.458206</td>\n",
       "      <td>1.297166</td>\n",
       "      <td>0.109419</td>\n",
       "    </tr>\n",
       "    <tr>\n",
       "      <th>7</th>\n",
       "      <td>1.0</td>\n",
       "      <td>0.755672</td>\n",
       "      <td>0.193574</td>\n",
       "      <td>1.063529</td>\n",
       "      <td>0.053030</td>\n",
       "    </tr>\n",
       "    <tr>\n",
       "      <th>3</th>\n",
       "      <td>1.0</td>\n",
       "      <td>0.000624</td>\n",
       "      <td>0.227386</td>\n",
       "      <td>0.797727</td>\n",
       "      <td>0.119392</td>\n",
       "    </tr>\n",
       "    <tr>\n",
       "      <th>6</th>\n",
       "      <td>1.0</td>\n",
       "      <td>5.083353</td>\n",
       "      <td>0.331290</td>\n",
       "      <td>1.055429</td>\n",
       "      <td>0.405886</td>\n",
       "    </tr>\n",
       "    <tr>\n",
       "      <th>0</th>\n",
       "      <td>1.0</td>\n",
       "      <td>0.135154</td>\n",
       "      <td>0.135154</td>\n",
       "      <td>1.293241</td>\n",
       "      <td>0.064848</td>\n",
       "    </tr>\n",
       "    <tr>\n",
       "      <th>14</th>\n",
       "      <td>1.0</td>\n",
       "      <td>0.697246</td>\n",
       "      <td>0.279514</td>\n",
       "      <td>1.491136</td>\n",
       "      <td>0.082254</td>\n",
       "    </tr>\n",
       "    <tr>\n",
       "      <th>1</th>\n",
       "      <td>1.0</td>\n",
       "      <td>0.758859</td>\n",
       "      <td>-0.064557</td>\n",
       "      <td>0.834610</td>\n",
       "      <td>-0.064974</td>\n",
       "    </tr>\n",
       "    <tr>\n",
       "      <th>4</th>\n",
       "      <td>1.0</td>\n",
       "      <td>1.239184</td>\n",
       "      <td>-2.007213</td>\n",
       "      <td>1.451510</td>\n",
       "      <td>-0.059932</td>\n",
       "    </tr>\n",
       "    <tr>\n",
       "      <th>9</th>\n",
       "      <td>1.0</td>\n",
       "      <td>10.614012</td>\n",
       "      <td>0.005259</td>\n",
       "      <td>0.637814</td>\n",
       "      <td>-0.055224</td>\n",
       "    </tr>\n",
       "    <tr>\n",
       "      <th>11</th>\n",
       "      <td>1.0</td>\n",
       "      <td>3.570709</td>\n",
       "      <td>-0.980925</td>\n",
       "      <td>0.977537</td>\n",
       "      <td>-0.178472</td>\n",
       "    </tr>\n",
       "    <tr>\n",
       "      <th>5</th>\n",
       "      <td>1.0</td>\n",
       "      <td>3.517208</td>\n",
       "      <td>-0.412206</td>\n",
       "      <td>1.336419</td>\n",
       "      <td>-0.116518</td>\n",
       "    </tr>\n",
       "    <tr>\n",
       "      <th>8</th>\n",
       "      <td>1.0</td>\n",
       "      <td>0.624000</td>\n",
       "      <td>-0.031987</td>\n",
       "      <td>1.056816</td>\n",
       "      <td>-0.026476</td>\n",
       "    </tr>\n",
       "    <tr>\n",
       "      <th>2</th>\n",
       "      <td>1.0</td>\n",
       "      <td>0.395062</td>\n",
       "      <td>0.236027</td>\n",
       "      <td>1.625789</td>\n",
       "      <td>0.061328</td>\n",
       "    </tr>\n",
       "    <tr>\n",
       "      <th>18</th>\n",
       "      <td>1.0</td>\n",
       "      <td>-1.322743</td>\n",
       "      <td>0.195796</td>\n",
       "      <td>1.263455</td>\n",
       "      <td>-0.003921</td>\n",
       "    </tr>\n",
       "    <tr>\n",
       "      <th>12</th>\n",
       "      <td>1.0</td>\n",
       "      <td>1.192419</td>\n",
       "      <td>0.023986</td>\n",
       "      <td>1.780840</td>\n",
       "      <td>0.043147</td>\n",
       "    </tr>\n",
       "  </tbody>\n",
       "</table>\n",
       "</div>"
      ],
      "text/plain": [
       "    const        DER  Operating Profit Margin  Sales Growth  Return On Asset\n",
       "16    1.0   1.026782                 0.458206      1.297166         0.109419\n",
       "7     1.0   0.755672                 0.193574      1.063529         0.053030\n",
       "3     1.0   0.000624                 0.227386      0.797727         0.119392\n",
       "6     1.0   5.083353                 0.331290      1.055429         0.405886\n",
       "0     1.0   0.135154                 0.135154      1.293241         0.064848\n",
       "14    1.0   0.697246                 0.279514      1.491136         0.082254\n",
       "1     1.0   0.758859                -0.064557      0.834610        -0.064974\n",
       "4     1.0   1.239184                -2.007213      1.451510        -0.059932\n",
       "9     1.0  10.614012                 0.005259      0.637814        -0.055224\n",
       "11    1.0   3.570709                -0.980925      0.977537        -0.178472\n",
       "5     1.0   3.517208                -0.412206      1.336419        -0.116518\n",
       "8     1.0   0.624000                -0.031987      1.056816        -0.026476\n",
       "2     1.0   0.395062                 0.236027      1.625789         0.061328\n",
       "18    1.0  -1.322743                 0.195796      1.263455        -0.003921\n",
       "12    1.0   1.192419                 0.023986      1.780840         0.043147"
      ]
     },
     "execution_count": 9,
     "metadata": {},
     "output_type": "execute_result"
    }
   ],
   "source": [
    "x_train_sm = sm.add_constant(x_train)\n",
    "x_train_sm"
   ]
  },
  {
   "cell_type": "code",
   "execution_count": 10,
   "id": "d0ab3c12",
   "metadata": {
    "execution": {
     "iopub.execute_input": "2022-07-06T09:25:50.451542Z",
     "iopub.status.busy": "2022-07-06T09:25:50.451169Z",
     "iopub.status.idle": "2022-07-06T09:25:50.499542Z",
     "shell.execute_reply": "2022-07-06T09:25:50.497973Z"
    },
    "papermill": {
     "duration": 0.059657,
     "end_time": "2022-07-06T09:25:50.503464",
     "exception": false,
     "start_time": "2022-07-06T09:25:50.443807",
     "status": "completed"
    },
    "tags": []
   },
   "outputs": [
    {
     "name": "stdout",
     "output_type": "stream",
     "text": [
      "Warning: Maximum number of iterations has been exceeded.\n",
      "         Current function value: nan\n",
      "         Iterations: 35\n"
     ]
    },
    {
     "name": "stderr",
     "output_type": "stream",
     "text": [
      "/opt/conda/lib/python3.7/site-packages/statsmodels/discrete/discrete_model.py:2331: RuntimeWarning: divide by zero encountered in log\n",
      "  logprob = np.log(self.cdf(np.dot(self.exog,params)))\n",
      "/opt/conda/lib/python3.7/site-packages/statsmodels/discrete/discrete_model.py:2332: RuntimeWarning: invalid value encountered in multiply\n",
      "  return np.sum(d * logprob)\n",
      "/opt/conda/lib/python3.7/site-packages/statsmodels/base/model.py:606: ConvergenceWarning: Maximum Likelihood optimization failed to converge. Check mle_retvals\n",
      "  ConvergenceWarning)\n"
     ]
    }
   ],
   "source": [
    "#logit_mod = sm.Logit(y_train, x_train_sm\n",
    "                     \n",
    "mnlogit_mod = sm.MNLogit(y_train, x_train_sm)\n",
    "mnlogit_fit = mnlogit_mod.fit()"
   ]
  },
  {
   "cell_type": "code",
   "execution_count": 11,
   "id": "4b483c0e",
   "metadata": {
    "execution": {
     "iopub.execute_input": "2022-07-06T09:25:50.529801Z",
     "iopub.status.busy": "2022-07-06T09:25:50.529154Z",
     "iopub.status.idle": "2022-07-06T09:25:50.625538Z",
     "shell.execute_reply": "2022-07-06T09:25:50.622815Z"
    },
    "papermill": {
     "duration": 0.112391,
     "end_time": "2022-07-06T09:25:50.628132",
     "exception": false,
     "start_time": "2022-07-06T09:25:50.515741",
     "status": "completed"
    },
    "tags": []
   },
   "outputs": [
    {
     "name": "stdout",
     "output_type": "stream",
     "text": [
      "                          MNLogit Regression Results                          \n",
      "==============================================================================\n",
      "Dep. Variable:               Category   No. Observations:                   15\n",
      "Model:                        MNLogit   Df Residuals:                        0\n",
      "Method:                           MLE   Df Model:                           12\n",
      "Date:                Wed, 06 Jul 2022   Pseudo R-squ.:                     nan\n",
      "Time:                        09:25:50   Log-Likelihood:                    nan\n",
      "converged:                      False   LL-Null:                       -17.054\n",
      "Covariance Type:            nonrobust   LLR p-value:                       nan\n",
      "===========================================================================================\n",
      "             Category=2       coef    std err          z      P>|z|      [0.025      0.975]\n",
      "-------------------------------------------------------------------------------------------\n",
      "const                    -339.4759    3.4e+05     -0.001      0.999   -6.66e+05    6.65e+05\n",
      "DER                        11.9331   3.58e+04      0.000      1.000   -7.02e+04    7.02e+04\n",
      "Operating Profit Margin     6.5167   1.77e+05   3.67e-05      1.000   -3.48e+05    3.48e+05\n",
      "Sales Growth              224.0674   1.93e+05      0.001      0.999   -3.78e+05    3.78e+05\n",
      "Return On Asset           152.2325   2.61e+05      0.001      1.000   -5.12e+05    5.12e+05\n",
      "-------------------------------------------------------------------------------------------\n",
      "             Category=3       coef    std err          z      P>|z|      [0.025      0.975]\n",
      "-------------------------------------------------------------------------------------------\n",
      "const                    2.471e+04   1.07e+12    2.3e-08      1.000    -2.1e+12     2.1e+12\n",
      "DER                      1010.9799        nan        nan        nan         nan         nan\n",
      "Operating Profit Margin -4.235e+04   1.69e+12   -2.5e-08      1.000   -3.32e+12    3.32e+12\n",
      "Sales Growth            -7.832e+04        nan        nan        nan         nan         nan\n",
      "Return On Asset         -3.763e+04        nan        nan        nan         nan         nan\n",
      "-------------------------------------------------------------------------------------------\n",
      "             Category=4       coef    std err          z      P>|z|      [0.025      0.975]\n",
      "-------------------------------------------------------------------------------------------\n",
      "const                      -2.1954      6.084     -0.361      0.718     -14.119       9.728\n",
      "DER                        -0.0551      0.633     -0.087      0.931      -1.296       1.185\n",
      "Operating Profit Margin    -3.4442      3.685     -0.935      0.350     -10.668       3.779\n",
      "Sales Growth                0.1411      5.064      0.028      0.978      -9.785      10.067\n",
      "Return On Asset            16.0200     20.878      0.767      0.443     -24.899      56.939\n",
      "===========================================================================================\n"
     ]
    },
    {
     "name": "stderr",
     "output_type": "stream",
     "text": [
      "/opt/conda/lib/python3.7/site-packages/statsmodels/discrete/discrete_model.py:4247: RuntimeWarning: invalid value encountered in sqrt\n",
      "  bse = np.sqrt(np.diag(self.cov_params()))\n"
     ]
    }
   ],
   "source": [
    "print (mnlogit_fit.summary())"
   ]
  },
  {
   "cell_type": "code",
   "execution_count": 12,
   "id": "edd41c05",
   "metadata": {
    "execution": {
     "iopub.execute_input": "2022-07-06T09:25:50.643538Z",
     "iopub.status.busy": "2022-07-06T09:25:50.642560Z",
     "iopub.status.idle": "2022-07-06T09:25:50.664167Z",
     "shell.execute_reply": "2022-07-06T09:25:50.663062Z"
    },
    "papermill": {
     "duration": 0.031594,
     "end_time": "2022-07-06T09:25:50.666397",
     "exception": false,
     "start_time": "2022-07-06T09:25:50.634803",
     "status": "completed"
    },
    "tags": []
   },
   "outputs": [
    {
     "data": {
      "text/plain": [
       "LogisticRegression()"
      ]
     },
     "execution_count": 12,
     "metadata": {},
     "output_type": "execute_result"
    }
   ],
   "source": [
    "model = LogisticRegression(multi_class='auto')\n",
    "model.fit(x_train, y_train)"
   ]
  },
  {
   "cell_type": "code",
   "execution_count": 13,
   "id": "c7a35620",
   "metadata": {
    "execution": {
     "iopub.execute_input": "2022-07-06T09:25:50.682299Z",
     "iopub.status.busy": "2022-07-06T09:25:50.681236Z",
     "iopub.status.idle": "2022-07-06T09:25:50.690097Z",
     "shell.execute_reply": "2022-07-06T09:25:50.689079Z"
    },
    "papermill": {
     "duration": 0.019123,
     "end_time": "2022-07-06T09:25:50.692303",
     "exception": false,
     "start_time": "2022-07-06T09:25:50.673180",
     "status": "completed"
    },
    "tags": []
   },
   "outputs": [
    {
     "data": {
      "text/plain": [
       "array([[0.53737913, 0.3093687 , 0.03639469, 0.11685749],\n",
       "       [0.35838901, 0.52357939, 0.03550296, 0.08252864],\n",
       "       [0.5636841 , 0.29284703, 0.02968732, 0.11378156],\n",
       "       [0.55827308, 0.30827238, 0.04433769, 0.08911685]])"
      ]
     },
     "execution_count": 13,
     "metadata": {},
     "output_type": "execute_result"
    }
   ],
   "source": [
    "model.predict_proba(x_test)[0:5]"
   ]
  },
  {
   "cell_type": "code",
   "execution_count": 14,
   "id": "4a464e66",
   "metadata": {
    "execution": {
     "iopub.execute_input": "2022-07-06T09:25:50.708212Z",
     "iopub.status.busy": "2022-07-06T09:25:50.707372Z",
     "iopub.status.idle": "2022-07-06T09:25:50.716488Z",
     "shell.execute_reply": "2022-07-06T09:25:50.715344Z"
    },
    "papermill": {
     "duration": 0.019657,
     "end_time": "2022-07-06T09:25:50.718832",
     "exception": false,
     "start_time": "2022-07-06T09:25:50.699175",
     "status": "completed"
    },
    "tags": []
   },
   "outputs": [
    {
     "data": {
      "text/plain": [
       "array([1, 2, 1, 1])"
      ]
     },
     "execution_count": 14,
     "metadata": {},
     "output_type": "execute_result"
    }
   ],
   "source": [
    "predictions = model.predict(x_test)\n",
    "predictions"
   ]
  },
  {
   "cell_type": "code",
   "execution_count": 15,
   "id": "90782c89",
   "metadata": {
    "execution": {
     "iopub.execute_input": "2022-07-06T09:25:50.734491Z",
     "iopub.status.busy": "2022-07-06T09:25:50.733783Z",
     "iopub.status.idle": "2022-07-06T09:25:50.751894Z",
     "shell.execute_reply": "2022-07-06T09:25:50.749796Z"
    },
    "papermill": {
     "duration": 0.028785,
     "end_time": "2022-07-06T09:25:50.754584",
     "exception": false,
     "start_time": "2022-07-06T09:25:50.725799",
     "status": "completed"
    },
    "tags": []
   },
   "outputs": [
    {
     "name": "stdout",
     "output_type": "stream",
     "text": [
      "              precision    recall  f1-score   support\n",
      "\n",
      "           1       1.00      1.00      1.00         3\n",
      "           2       0.00      0.00      0.00         0\n",
      "           4       0.00      0.00      0.00         1\n",
      "\n",
      "    accuracy                           0.75         4\n",
      "   macro avg       0.33      0.33      0.33         4\n",
      "weighted avg       0.75      0.75      0.75         4\n",
      "\n"
     ]
    },
    {
     "name": "stderr",
     "output_type": "stream",
     "text": [
      "/opt/conda/lib/python3.7/site-packages/sklearn/metrics/_classification.py:1318: UndefinedMetricWarning: Precision and F-score are ill-defined and being set to 0.0 in labels with no predicted samples. Use `zero_division` parameter to control this behavior.\n",
      "  _warn_prf(average, modifier, msg_start, len(result))\n",
      "/opt/conda/lib/python3.7/site-packages/sklearn/metrics/_classification.py:1318: UndefinedMetricWarning: Recall and F-score are ill-defined and being set to 0.0 in labels with no true samples. Use `zero_division` parameter to control this behavior.\n",
      "  _warn_prf(average, modifier, msg_start, len(result))\n",
      "/opt/conda/lib/python3.7/site-packages/sklearn/metrics/_classification.py:1318: UndefinedMetricWarning: Precision and F-score are ill-defined and being set to 0.0 in labels with no predicted samples. Use `zero_division` parameter to control this behavior.\n",
      "  _warn_prf(average, modifier, msg_start, len(result))\n",
      "/opt/conda/lib/python3.7/site-packages/sklearn/metrics/_classification.py:1318: UndefinedMetricWarning: Recall and F-score are ill-defined and being set to 0.0 in labels with no true samples. Use `zero_division` parameter to control this behavior.\n",
      "  _warn_prf(average, modifier, msg_start, len(result))\n",
      "/opt/conda/lib/python3.7/site-packages/sklearn/metrics/_classification.py:1318: UndefinedMetricWarning: Precision and F-score are ill-defined and being set to 0.0 in labels with no predicted samples. Use `zero_division` parameter to control this behavior.\n",
      "  _warn_prf(average, modifier, msg_start, len(result))\n",
      "/opt/conda/lib/python3.7/site-packages/sklearn/metrics/_classification.py:1318: UndefinedMetricWarning: Recall and F-score are ill-defined and being set to 0.0 in labels with no true samples. Use `zero_division` parameter to control this behavior.\n",
      "  _warn_prf(average, modifier, msg_start, len(result))\n"
     ]
    }
   ],
   "source": [
    "print(classification_report(y_test, predictions))"
   ]
  },
  {
   "cell_type": "code",
   "execution_count": 16,
   "id": "ecd4ee8b",
   "metadata": {
    "execution": {
     "iopub.execute_input": "2022-07-06T09:25:50.770804Z",
     "iopub.status.busy": "2022-07-06T09:25:50.770391Z",
     "iopub.status.idle": "2022-07-06T09:25:50.777787Z",
     "shell.execute_reply": "2022-07-06T09:25:50.776230Z"
    },
    "papermill": {
     "duration": 0.01842,
     "end_time": "2022-07-06T09:25:50.780322",
     "exception": false,
     "start_time": "2022-07-06T09:25:50.761902",
     "status": "completed"
    },
    "tags": []
   },
   "outputs": [
    {
     "name": "stdout",
     "output_type": "stream",
     "text": [
      "0.75\n"
     ]
    }
   ],
   "source": [
    "print(accuracy_score(y_test, predictions))"
   ]
  }
 ],
 "metadata": {
  "kernelspec": {
   "display_name": "Python 3",
   "language": "python",
   "name": "python3"
  },
  "language_info": {
   "codemirror_mode": {
    "name": "ipython",
    "version": 3
   },
   "file_extension": ".py",
   "mimetype": "text/x-python",
   "name": "python",
   "nbconvert_exporter": "python",
   "pygments_lexer": "ipython3",
   "version": "3.7.12"
  },
  "papermill": {
   "default_parameters": {},
   "duration": 13.53189,
   "end_time": "2022-07-06T09:25:51.610293",
   "environment_variables": {},
   "exception": null,
   "input_path": "__notebook__.ipynb",
   "output_path": "__notebook__.ipynb",
   "parameters": {},
   "start_time": "2022-07-06T09:25:38.078403",
   "version": "2.3.4"
  }
 },
 "nbformat": 4,
 "nbformat_minor": 5
}
